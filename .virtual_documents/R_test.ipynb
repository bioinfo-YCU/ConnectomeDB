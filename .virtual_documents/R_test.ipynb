





format(Sys.Date(), "%d-%b-%Y")


library(biomaRt)
library(tidyverse)


# Function to retrieve orthologs for different species
get_species_orthologs <- function(species_name) {
  # Connect to Ensembl BioMart
  ensembl <- useMart("ensembl", dataset = "hsapiens_gene_ensembl")

  # Retrieve all human genes with their Ensembl IDs and HGNC symbols
    human_genes <- getBM(
        attributes = c("hgnc_id", "hgnc_symbol", "ensembl_gene_id"),
        mart = ensembl
    )
  
  # Define species-specific attributes dynamically based on species name
  species_column <- paste0(species_name, "_homolog_ensembl_gene")
  species_gene_name <- paste0(species_name, "_homolog_associated_gene_name")
  
  # Get orthologs for the specified species
  orthologs <- getBM(
    attributes = c("ensembl_gene_id", 
                   species_column, 
                   species_gene_name),
    mart = ensembl
  )
  final_result <- merge(human_genes, orthologs, by = "ensembl_gene_id", all.x = TRUE)
  readr::write_csv(final_result, paste0("data/",species_name, "_ID_biomart.csv"))
  return(final_result)
}

# Function to list available attributes for a given Ensembl species dataset
list_species_attributes <- function(species_dataset) {
  ensembl <- useMart("ensembl", dataset = species_dataset)
  attributes <- listAttributes(ensembl)
  return(attributes)
}





#  Rhesus macaque
get_species_orthologs("mmulatta")





# Chimp
get_species_orthologs("ptroglodytes")


# Chicken (Gallus gallus)
chicken_orthologs <- get_species_orthologs("ggallus")


# Pig (Sus scrofa)
pig_orthologs <- get_species_orthologs("sscrofa")


# Cow (Bos taurus)
cow_orthologs <- get_species_orthologs("btaurus")


# Dog (Canis lupus familiaris)
dog_orthologs <- get_species_orthologs("clfamiliaris")


# Horse (Equus caballus)
horse_orthologs <- get_species_orthologs("ecaballus")


# Sheep (Ovis aries rambouillet)
sheep_orthologs <- get_species_orthologs("oarambouillet")


# Mouse (Mus musculus) # test
mouse_orthologs <- get_species_orthologs("mmusculus")


# Rat (Rattus norvegicus) # test
rat_orthologs <- get_species_orthologs("rnorvegicus")


# Zebrafish (Danio rerio) # test
zebra_orthologs <- get_species_orthologs("drerio")





ensembl_human <- useMart("ensembl", dataset ="hsapiens_gene_ensembl")
attributes_human <- listAttributes(ensembl_human)


homologs_available <- attributes_human[grep("homolog_ensembl_gene", attributes_human$name), ]


readr::write_csv(homologs_available, paste0("data/","human_homologs", "_biomart.csv"))


human_attributes <- list_species_attributes("hsapiens_gene_ensembl")
head(human_attributes)  # Show first few attributes


# download HGNC complete txt file
download.file(
  url = "https://storage.googleapis.com/public-download-files/hgnc/tsv/tsv/hgnc_complete_set.txt",
  destfile = "hgnc_complete_set.txt",
  method = "auto"
)

# Optional: read into R
hgnc_data <- read.delim("hgnc_complete_set.txt", sep = "\t", header = TRUE)
head(hgnc_data)
# Save to file
write.table(hgnc_data, file = "data/HGNC_gene_info_full.tsv", sep = "\t", row.names = FALSE, quote = FALSE)


colnames(hgnc_data)


#listAttributes(ensembl)


# Save to file
write.table(hgnc_data, file = "data/HGNC_gene_info_full.tsv", sep = "\t", row.names = FALSE, quote = FALSE)



