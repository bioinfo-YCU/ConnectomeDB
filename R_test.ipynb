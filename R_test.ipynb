{
 "cells": [
  {
   "cell_type": "markdown",
   "id": "b2788c71-e0c4-4846-8f10-ac693892fb64",
   "metadata": {},
   "source": [
    "# Notebook for R (Biomart Homolog download)"
   ]
  },
  {
   "cell_type": "markdown",
   "id": "08823232-7311-4f98-b0a7-69db50a7ac0a",
   "metadata": {},
   "source": [
    "# R Notebook"
   ]
  },
  {
   "cell_type": "code",
   "execution_count": null,
   "id": "7c705768-ddd2-4722-a439-7949d29f86f3",
   "metadata": {},
   "outputs": [],
   "source": [
    "format(Sys.Date(), \"%d-%b-%Y\")"
   ]
  },
  {
   "cell_type": "code",
   "execution_count": null,
   "id": "5eae9b64-a549-4754-8767-0a1414a501f3",
   "metadata": {},
   "outputs": [],
   "source": [
    "library(biomaRt)"
   ]
  },
  {
   "cell_type": "code",
   "execution_count": null,
   "id": "051a490c-6c6a-4813-8e9d-19d8237085ed",
   "metadata": {},
   "outputs": [],
   "source": [
    "# Function to retrieve orthologs for different species\n",
    "get_species_orthologs <- function(species_name) {\n",
    "  # Connect to Ensembl BioMart\n",
    "  ensembl <- useMart(\"ensembl\", dataset = \"hsapiens_gene_ensembl\")\n",
    "\n",
    "  # Retrieve all human genes with their Ensembl IDs and HGNC symbols\n",
    "    human_genes <- getBM(\n",
    "        attributes = c(\"hgnc_id\", \"hgnc_symbol\", \"ensembl_gene_id\"),\n",
    "        mart = ensembl\n",
    "    )\n",
    "  \n",
    "  # Define species-specific attributes dynamically based on species name\n",
    "  species_column <- paste0(species_name, \"_homolog_ensembl_gene\")\n",
    "  species_gene_name <- paste0(species_name, \"_homolog_associated_gene_name\")\n",
    "  \n",
    "  # Get orthologs for the specified species\n",
    "  orthologs <- getBM(\n",
    "    attributes = c(\"ensembl_gene_id\", \n",
    "                   species_column, \n",
    "                   species_gene_name),\n",
    "    mart = ensembl\n",
    "  )\n",
    "  final_result <- merge(human_genes, orthologs, by = \"ensembl_gene_id\", all.x = TRUE)\n",
    "  readr::write_csv(final_result, paste0(\"data/\",species_name, \"_ID_biomart.csv\"))\n",
    "  return(final_result)\n",
    "}"
   ]
  },
  {
   "cell_type": "code",
   "execution_count": null,
   "id": "1ccd7dcc-1f8f-428c-9a39-de919ea5df1d",
   "metadata": {},
   "outputs": [],
   "source": [
    "# Chimp\n",
    "get_species_orthologs(\"ptroglodytes\")"
   ]
  },
  {
   "cell_type": "code",
   "execution_count": null,
   "id": "343a679c-7a5d-4701-8492-cf1389b98a66",
   "metadata": {},
   "outputs": [],
   "source": [
    "# Chicken (Gallus gallus)\n",
    "chicken_orthologs <- get_species_orthologs(\"ggallus\")"
   ]
  },
  {
   "cell_type": "code",
   "execution_count": null,
   "id": "da977b53-d8a2-43c7-8c3b-490b78338879",
   "metadata": {},
   "outputs": [],
   "source": [
    "# Pig (Sus scrofa)\n",
    "pig_orthologs <- get_species_orthologs(\"sscrofa\")"
   ]
  },
  {
   "cell_type": "code",
   "execution_count": null,
   "id": "8ee45d8c-a1b2-4ff1-a6ec-e85644344cc7",
   "metadata": {},
   "outputs": [],
   "source": [
    "# Cow (Bos taurus)\n",
    "cow_orthologs <- get_species_orthologs(\"btaurus\")"
   ]
  },
  {
   "cell_type": "code",
   "execution_count": null,
   "id": "844dab5f-efa4-431d-b4d7-c0a4e7e73129",
   "metadata": {},
   "outputs": [],
   "source": [
    "# Dog (Canis lupus familiaris)\n",
    "dog_orthologs <- get_species_orthologs(\"clfamiliaris\")"
   ]
  },
  {
   "cell_type": "code",
   "execution_count": null,
   "id": "df5e988b-bc26-4197-80ad-5f192676979a",
   "metadata": {},
   "outputs": [],
   "source": [
    "# Horse (Equus caballus)\n",
    "horse_orthologs <- get_species_orthologs(\"ecaballus\")"
   ]
  },
  {
   "cell_type": "code",
   "execution_count": null,
   "id": "8bc689e3-1d42-4854-800e-6f3599d6dab0",
   "metadata": {},
   "outputs": [],
   "source": [
    "# Sheep (Ovis aries rambouillet)\n",
    "sheep_orthologs <- get_species_orthologs(\"oarambouillet\")"
   ]
  },
  {
   "cell_type": "code",
   "execution_count": null,
   "id": "bbd8a107-1754-48b5-9ccb-91b0402661a2",
   "metadata": {},
   "outputs": [],
   "source": [
    "# Mouse (Mus musculus) # test\n",
    "mouse_orthologs <- get_species_orthologs(\"mmusculus\")"
   ]
  },
  {
   "cell_type": "code",
   "execution_count": null,
   "id": "24993537-5679-4488-aed4-bb39dc2f8ff2",
   "metadata": {},
   "outputs": [],
   "source": [
    "# Rat (Rattus norvegicus) # test\n",
    "rat_orthologs <- get_species_orthologs(\"rnorvegicus\")"
   ]
  },
  {
   "cell_type": "code",
   "execution_count": null,
   "id": "35ba4f14-904c-4a51-9786-28283a8e5a81",
   "metadata": {},
   "outputs": [],
   "source": [
    "# Zebrafish (Danio rerio) # test\n",
    "rat_orthologs <- get_species_orthologs(\"drerio\")"
   ]
  },
  {
   "cell_type": "markdown",
   "id": "c019b291-7814-4b04-8bed-e4c1cfe8ba9a",
   "metadata": {},
   "source": [
    "# Check homologs available"
   ]
  },
  {
   "cell_type": "code",
   "execution_count": null,
   "id": "61af6dd1-d3c0-433d-8dd6-f43597514ca5",
   "metadata": {},
   "outputs": [],
   "source": [
    "ensembl_human <- useMart(\"ensembl\", dataset =\"hsapiens_gene_ensembl\")\n",
    "attributes_human <- listAttributes(ensembl_human)"
   ]
  },
  {
   "cell_type": "code",
   "execution_count": null,
   "id": "18e81d43-180d-43c5-90b0-b847c2193313",
   "metadata": {},
   "outputs": [],
   "source": [
    "homologs_available <- attributes_human[grep(\"homolog_ensembl_gene\", attributes_human$name), ]"
   ]
  },
  {
   "cell_type": "code",
   "execution_count": null,
   "id": "2ab9c1ca-a2fc-41d3-b491-556d13b99bfe",
   "metadata": {},
   "outputs": [],
   "source": [
    "readr::write_csv(homologs_available, paste0(\"data/\",\"human_homologs\", \"_biomart.csv\"))"
   ]
  },
  {
   "cell_type": "code",
   "execution_count": null,
   "id": "eabcf439-9a7e-45cf-b8e0-6540a1043bb8",
   "metadata": {},
   "outputs": [],
   "source": []
  }
 ],
 "metadata": {
  "kernelspec": {
   "display_name": "R",
   "language": "R",
   "name": "ir"
  },
  "language_info": {
   "codemirror_mode": "r",
   "file_extension": ".r",
   "mimetype": "text/x-r-source",
   "name": "R",
   "pygments_lexer": "r",
   "version": "4.3.2"
  }
 },
 "nbformat": 4,
 "nbformat_minor": 5
}
