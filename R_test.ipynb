{
 "cells": [
  {
   "cell_type": "markdown",
   "id": "a7ba551e-d85e-497c-ac8f-68668162b62b",
   "metadata": {},
   "source": [
    "### Notebook for R"
   ]
  },
  {
   "cell_type": "markdown",
   "id": "40200cb4-8517-4dd5-86b4-02e23051de5e",
   "metadata": {},
   "source": [
    "### R Notebook"
   ]
  },
  {
   "cell_type": "markdown",
   "id": "08823232-7311-4f98-b0a7-69db50a7ac0a",
   "metadata": {},
   "source": [
    "# R Notebook"
   ]
  },
  {
   "cell_type": "code",
   "execution_count": 4,
   "id": "7c705768-ddd2-4722-a439-7949d29f86f3",
   "metadata": {},
   "outputs": [
    {
     "data": {
      "text/html": [
       "'09-Jan-2025'"
      ],
      "text/latex": [
       "'09-Jan-2025'"
      ],
      "text/markdown": [
       "'09-Jan-2025'"
      ],
      "text/plain": [
       "[1] \"09-Jan-2025\""
      ]
     },
     "metadata": {},
     "output_type": "display_data"
    }
   ],
   "source": [
    "format(Sys.Date(), \"%d-%b-%Y\")"
   ]
  },
  {
   "cell_type": "code",
   "execution_count": 2,
   "id": "844dab5f-efa4-431d-b4d7-c0a4e7e73129",
   "metadata": {},
   "outputs": [
    {
     "ename": "SyntaxError",
     "evalue": "invalid syntax (4062093909.py, line 1)",
     "output_type": "error",
     "traceback": [
      "\u001b[0;36m  Cell \u001b[0;32mIn[2], line 1\u001b[0;36m\u001b[0m\n\u001b[0;31m    jupyter kernelspec lis\u001b[0m\n\u001b[0m            ^\u001b[0m\n\u001b[0;31mSyntaxError\u001b[0m\u001b[0;31m:\u001b[0m invalid syntax\n"
     ]
    }
   ],
   "source": []
  },
  {
   "cell_type": "code",
   "execution_count": null,
   "id": "2259e103-cc78-4774-b7e2-651b1816a166",
   "metadata": {},
   "outputs": [],
   "source": []
  }
 ],
 "metadata": {
  "kernelspec": {
   "display_name": "R",
   "language": "R",
   "name": "ir"
  },
  "language_info": {
   "codemirror_mode": "r",
   "file_extension": ".r",
   "mimetype": "text/x-r-source",
   "name": "R",
   "pygments_lexer": "r",
   "version": "4.3.2"
  }
 },
 "nbformat": 4,
 "nbformat_minor": 5
}
