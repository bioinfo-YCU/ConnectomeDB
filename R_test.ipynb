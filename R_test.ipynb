{
 "cells": [
  {
   "cell_type": "markdown",
   "id": "b2788c71-e0c4-4846-8f10-ac693892fb64",
   "metadata": {},
   "source": [
    "# Notebook for R (Biomart Homolog download)"
   ]
  },
  {
   "cell_type": "markdown",
   "id": "08823232-7311-4f98-b0a7-69db50a7ac0a",
   "metadata": {},
   "source": [
    "# R Notebook"
   ]
  },
  {
   "cell_type": "code",
   "execution_count": 13,
   "id": "7c705768-ddd2-4722-a439-7949d29f86f3",
   "metadata": {},
   "outputs": [
    {
     "data": {
      "text/html": [
       "'21-Apr-2025'"
      ],
      "text/latex": [
       "'21-Apr-2025'"
      ],
      "text/markdown": [
       "'21-Apr-2025'"
      ],
      "text/plain": [
       "[1] \"21-Apr-2025\""
      ]
     },
     "metadata": {},
     "output_type": "display_data"
    }
   ],
   "source": [
    "format(Sys.Date(), \"%d-%b-%Y\")"
   ]
  },
  {
   "cell_type": "code",
   "execution_count": 14,
   "id": "5eae9b64-a549-4754-8767-0a1414a501f3",
   "metadata": {},
   "outputs": [
    {
     "ename": "ERROR",
     "evalue": "Error in library(tidyverse):  ‘tidyverse’ という名前のパッケージはありません \n",
     "output_type": "error",
     "traceback": [
      "Error in library(tidyverse):  ‘tidyverse’ という名前のパッケージはありません \nTraceback:\n",
      "1. stop(packageNotFoundError(package, lib.loc, sys.call()))"
     ]
    }
   ],
   "source": [
    "library(biomaRt)\n",
    "library(tidyverse)"
   ]
  },
  {
   "cell_type": "code",
   "execution_count": 6,
   "id": "051a490c-6c6a-4813-8e9d-19d8237085ed",
   "metadata": {},
   "outputs": [],
   "source": [
    "# Function to retrieve orthologs for different species\n",
    "get_species_orthologs <- function(species_name) {\n",
    "  # Connect to Ensembl BioMart\n",
    "  ensembl <- useMart(\"ensembl\", dataset = \"hsapiens_gene_ensembl\")\n",
    "\n",
    "  # Retrieve all human genes with their Ensembl IDs and HGNC symbols\n",
    "    human_genes <- getBM(\n",
    "        attributes = c(\"hgnc_id\", \"hgnc_symbol\", \"ensembl_gene_id\"),\n",
    "        mart = ensembl\n",
    "    )\n",
    "  \n",
    "  # Define species-specific attributes dynamically based on species name\n",
    "  species_column <- paste0(species_name, \"_homolog_ensembl_gene\")\n",
    "  species_gene_name <- paste0(species_name, \"_homolog_associated_gene_name\")\n",
    "  \n",
    "  # Get orthologs for the specified species\n",
    "  orthologs <- getBM(\n",
    "    attributes = c(\"ensembl_gene_id\", \n",
    "                   species_column, \n",
    "                   species_gene_name),\n",
    "    mart = ensembl\n",
    "  )\n",
    "  final_result <- merge(human_genes, orthologs, by = \"ensembl_gene_id\", all.x = TRUE)\n",
    "  readr::write_csv(final_result, paste0(\"data/\",species_name, \"_ID_biomart.csv\"))\n",
    "  return(final_result)\n",
    "}\n",
    "\n",
    "# Function to list available attributes for a given Ensembl species dataset\n",
    "list_species_attributes <- function(species_dataset) {\n",
    "  ensembl <- useMart(\"ensembl\", dataset = species_dataset)\n",
    "  attributes <- listAttributes(ensembl)\n",
    "  return(attributes)\n",
    "}"
   ]
  },
  {
   "cell_type": "code",
   "execution_count": null,
   "id": "1ccd7dcc-1f8f-428c-9a39-de919ea5df1d",
   "metadata": {},
   "outputs": [],
   "source": [
    "# Chimp\n",
    "get_species_orthologs(\"ptroglodytes\")"
   ]
  },
  {
   "cell_type": "code",
   "execution_count": null,
   "id": "343a679c-7a5d-4701-8492-cf1389b98a66",
   "metadata": {},
   "outputs": [],
   "source": [
    "# Chicken (Gallus gallus)\n",
    "chicken_orthologs <- get_species_orthologs(\"ggallus\")"
   ]
  },
  {
   "cell_type": "code",
   "execution_count": null,
   "id": "da977b53-d8a2-43c7-8c3b-490b78338879",
   "metadata": {},
   "outputs": [],
   "source": [
    "# Pig (Sus scrofa)\n",
    "pig_orthologs <- get_species_orthologs(\"sscrofa\")"
   ]
  },
  {
   "cell_type": "code",
   "execution_count": null,
   "id": "8ee45d8c-a1b2-4ff1-a6ec-e85644344cc7",
   "metadata": {},
   "outputs": [],
   "source": [
    "# Cow (Bos taurus)\n",
    "cow_orthologs <- get_species_orthologs(\"btaurus\")"
   ]
  },
  {
   "cell_type": "code",
   "execution_count": null,
   "id": "844dab5f-efa4-431d-b4d7-c0a4e7e73129",
   "metadata": {},
   "outputs": [],
   "source": [
    "# Dog (Canis lupus familiaris)\n",
    "dog_orthologs <- get_species_orthologs(\"clfamiliaris\")"
   ]
  },
  {
   "cell_type": "code",
   "execution_count": null,
   "id": "df5e988b-bc26-4197-80ad-5f192676979a",
   "metadata": {},
   "outputs": [],
   "source": [
    "# Horse (Equus caballus)\n",
    "horse_orthologs <- get_species_orthologs(\"ecaballus\")"
   ]
  },
  {
   "cell_type": "code",
   "execution_count": null,
   "id": "8bc689e3-1d42-4854-800e-6f3599d6dab0",
   "metadata": {},
   "outputs": [],
   "source": [
    "# Sheep (Ovis aries rambouillet)\n",
    "sheep_orthologs <- get_species_orthologs(\"oarambouillet\")"
   ]
  },
  {
   "cell_type": "code",
   "execution_count": null,
   "id": "bbd8a107-1754-48b5-9ccb-91b0402661a2",
   "metadata": {},
   "outputs": [],
   "source": [
    "# Mouse (Mus musculus) # test\n",
    "mouse_orthologs <- get_species_orthologs(\"mmusculus\")"
   ]
  },
  {
   "cell_type": "code",
   "execution_count": null,
   "id": "24993537-5679-4488-aed4-bb39dc2f8ff2",
   "metadata": {},
   "outputs": [],
   "source": [
    "# Rat (Rattus norvegicus) # test\n",
    "rat_orthologs <- get_species_orthologs(\"rnorvegicus\")"
   ]
  },
  {
   "cell_type": "code",
   "execution_count": null,
   "id": "35ba4f14-904c-4a51-9786-28283a8e5a81",
   "metadata": {},
   "outputs": [],
   "source": [
    "# Zebrafish (Danio rerio) # test\n",
    "zebra_orthologs <- get_species_orthologs(\"drerio\")"
   ]
  },
  {
   "cell_type": "markdown",
   "id": "c019b291-7814-4b04-8bed-e4c1cfe8ba9a",
   "metadata": {},
   "source": [
    "# Check homologs available"
   ]
  },
  {
   "cell_type": "code",
   "execution_count": null,
   "id": "61af6dd1-d3c0-433d-8dd6-f43597514ca5",
   "metadata": {},
   "outputs": [],
   "source": [
    "ensembl_human <- useMart(\"ensembl\", dataset =\"hsapiens_gene_ensembl\")\n",
    "attributes_human <- listAttributes(ensembl_human)"
   ]
  },
  {
   "cell_type": "code",
   "execution_count": null,
   "id": "18e81d43-180d-43c5-90b0-b847c2193313",
   "metadata": {},
   "outputs": [],
   "source": [
    "homologs_available <- attributes_human[grep(\"homolog_ensembl_gene\", attributes_human$name), ]"
   ]
  },
  {
   "cell_type": "code",
   "execution_count": null,
   "id": "2ab9c1ca-a2fc-41d3-b491-556d13b99bfe",
   "metadata": {},
   "outputs": [],
   "source": [
    "readr::write_csv(homologs_available, paste0(\"data/\",\"human_homologs\", \"_biomart.csv\"))"
   ]
  },
  {
   "cell_type": "code",
   "execution_count": 8,
   "id": "eabcf439-9a7e-45cf-b8e0-6540a1043bb8",
   "metadata": {},
   "outputs": [
    {
     "data": {
      "text/html": [
       "<table class=\"dataframe\">\n",
       "<caption>A data.frame: 6 × 3</caption>\n",
       "<thead>\n",
       "\t<tr><th></th><th scope=col>name</th><th scope=col>description</th><th scope=col>page</th></tr>\n",
       "\t<tr><th></th><th scope=col>&lt;chr&gt;</th><th scope=col>&lt;chr&gt;</th><th scope=col>&lt;chr&gt;</th></tr>\n",
       "</thead>\n",
       "<tbody>\n",
       "\t<tr><th scope=row>1</th><td>ensembl_gene_id              </td><td>Gene stable ID              </td><td>feature_page</td></tr>\n",
       "\t<tr><th scope=row>2</th><td>ensembl_gene_id_version      </td><td>Gene stable ID version      </td><td>feature_page</td></tr>\n",
       "\t<tr><th scope=row>3</th><td>ensembl_transcript_id        </td><td>Transcript stable ID        </td><td>feature_page</td></tr>\n",
       "\t<tr><th scope=row>4</th><td>ensembl_transcript_id_version</td><td>Transcript stable ID version</td><td>feature_page</td></tr>\n",
       "\t<tr><th scope=row>5</th><td>ensembl_peptide_id           </td><td>Protein stable ID           </td><td>feature_page</td></tr>\n",
       "\t<tr><th scope=row>6</th><td>ensembl_peptide_id_version   </td><td>Protein stable ID version   </td><td>feature_page</td></tr>\n",
       "</tbody>\n",
       "</table>\n"
      ],
      "text/latex": [
       "A data.frame: 6 × 3\n",
       "\\begin{tabular}{r|lll}\n",
       "  & name & description & page\\\\\n",
       "  & <chr> & <chr> & <chr>\\\\\n",
       "\\hline\n",
       "\t1 & ensembl\\_gene\\_id               & Gene stable ID               & feature\\_page\\\\\n",
       "\t2 & ensembl\\_gene\\_id\\_version       & Gene stable ID version       & feature\\_page\\\\\n",
       "\t3 & ensembl\\_transcript\\_id         & Transcript stable ID         & feature\\_page\\\\\n",
       "\t4 & ensembl\\_transcript\\_id\\_version & Transcript stable ID version & feature\\_page\\\\\n",
       "\t5 & ensembl\\_peptide\\_id            & Protein stable ID            & feature\\_page\\\\\n",
       "\t6 & ensembl\\_peptide\\_id\\_version    & Protein stable ID version    & feature\\_page\\\\\n",
       "\\end{tabular}\n"
      ],
      "text/markdown": [
       "\n",
       "A data.frame: 6 × 3\n",
       "\n",
       "| <!--/--> | name &lt;chr&gt; | description &lt;chr&gt; | page &lt;chr&gt; |\n",
       "|---|---|---|---|\n",
       "| 1 | ensembl_gene_id               | Gene stable ID               | feature_page |\n",
       "| 2 | ensembl_gene_id_version       | Gene stable ID version       | feature_page |\n",
       "| 3 | ensembl_transcript_id         | Transcript stable ID         | feature_page |\n",
       "| 4 | ensembl_transcript_id_version | Transcript stable ID version | feature_page |\n",
       "| 5 | ensembl_peptide_id            | Protein stable ID            | feature_page |\n",
       "| 6 | ensembl_peptide_id_version    | Protein stable ID version    | feature_page |\n",
       "\n"
      ],
      "text/plain": [
       "  name                          description                  page        \n",
       "1 ensembl_gene_id               Gene stable ID               feature_page\n",
       "2 ensembl_gene_id_version       Gene stable ID version       feature_page\n",
       "3 ensembl_transcript_id         Transcript stable ID         feature_page\n",
       "4 ensembl_transcript_id_version Transcript stable ID version feature_page\n",
       "5 ensembl_peptide_id            Protein stable ID            feature_page\n",
       "6 ensembl_peptide_id_version    Protein stable ID version    feature_page"
      ]
     },
     "metadata": {},
     "output_type": "display_data"
    }
   ],
   "source": [
    "human_attributes <- list_species_attributes(\"hsapiens_gene_ensembl\")\n",
    "head(human_attributes)  # Show first few attributes"
   ]
  },
  {
   "cell_type": "code",
   "execution_count": 15,
   "id": "af952140-94ca-4f05-9121-adb28507b946",
   "metadata": {},
   "outputs": [
    {
     "data": {
      "text/html": [
       "<table class=\"dataframe\">\n",
       "<caption>A data.frame: 6 × 54</caption>\n",
       "<thead>\n",
       "\t<tr><th></th><th scope=col>hgnc_id</th><th scope=col>symbol</th><th scope=col>name</th><th scope=col>locus_group</th><th scope=col>locus_type</th><th scope=col>status</th><th scope=col>location</th><th scope=col>location_sortable</th><th scope=col>alias_symbol</th><th scope=col>alias_name</th><th scope=col>⋯</th><th scope=col>cd</th><th scope=col>lncrnadb</th><th scope=col>enzyme_id</th><th scope=col>intermediate_filament_db</th><th scope=col>rna_central_id</th><th scope=col>lncipedia</th><th scope=col>gtrnadb</th><th scope=col>agr</th><th scope=col>mane_select</th><th scope=col>gencc</th></tr>\n",
       "\t<tr><th></th><th scope=col>&lt;chr&gt;</th><th scope=col>&lt;chr&gt;</th><th scope=col>&lt;chr&gt;</th><th scope=col>&lt;chr&gt;</th><th scope=col>&lt;chr&gt;</th><th scope=col>&lt;chr&gt;</th><th scope=col>&lt;chr&gt;</th><th scope=col>&lt;chr&gt;</th><th scope=col>&lt;chr&gt;</th><th scope=col>&lt;chr&gt;</th><th scope=col>⋯</th><th scope=col>&lt;chr&gt;</th><th scope=col>&lt;chr&gt;</th><th scope=col>&lt;chr&gt;</th><th scope=col>&lt;lgl&gt;</th><th scope=col>&lt;chr&gt;</th><th scope=col>&lt;chr&gt;</th><th scope=col>&lt;chr&gt;</th><th scope=col>&lt;chr&gt;</th><th scope=col>&lt;chr&gt;</th><th scope=col>&lt;chr&gt;</th></tr>\n",
       "</thead>\n",
       "<tbody>\n",
       "\t<tr><th scope=row>1</th><td>HGNC:5    </td><td>A1BG    </td><td>alpha-1-B glycoprotein        </td><td>protein-coding gene</td><td>gene with protein product</td><td>Approved</td><td>19q13.43</td><td>19q13.43</td><td>                             </td><td></td><td>⋯</td><td></td><td></td><td></td><td>NA</td><td>             </td><td>        </td><td></td><td>HGNC:5    </td><td>ENST00000263100.8|NM_130786.4 </td><td>          </td></tr>\n",
       "\t<tr><th scope=row>2</th><td>HGNC:37133</td><td>A1BG-AS1</td><td>A1BG antisense RNA 1          </td><td>non-coding RNA     </td><td>RNA, long non-coding     </td><td>Approved</td><td>19q13.43</td><td>19q13.43</td><td>FLJ23569                     </td><td></td><td>⋯</td><td></td><td></td><td></td><td>NA</td><td>URS00007E4F6E</td><td>A1BG-AS1</td><td></td><td>HGNC:37133</td><td>                              </td><td>          </td></tr>\n",
       "\t<tr><th scope=row>3</th><td>HGNC:24086</td><td>A1CF    </td><td>APOBEC1 complementation factor</td><td>protein-coding gene</td><td>gene with protein product</td><td>Approved</td><td>10q11.23</td><td>10q11.23</td><td>ACF|ASP|ACF64|ACF65|APOBEC1CF</td><td></td><td>⋯</td><td></td><td></td><td></td><td>NA</td><td>             </td><td>        </td><td></td><td>HGNC:24086</td><td>ENST00000373997.8|NM_014576.4 </td><td>          </td></tr>\n",
       "\t<tr><th scope=row>4</th><td>HGNC:7    </td><td>A2M     </td><td>alpha-2-macroglobulin         </td><td>protein-coding gene</td><td>gene with protein product</td><td>Approved</td><td>12p13.31</td><td>12p13.31</td><td>FWP007|S863-7|CPAMD5         </td><td></td><td>⋯</td><td></td><td></td><td></td><td>NA</td><td>             </td><td>        </td><td></td><td>HGNC:7    </td><td>ENST00000318602.12|NM_000014.6</td><td>HGNC:7    </td></tr>\n",
       "\t<tr><th scope=row>5</th><td>HGNC:27057</td><td>A2M-AS1 </td><td>A2M antisense RNA 1           </td><td>non-coding RNA     </td><td>RNA, long non-coding     </td><td>Approved</td><td>12p13.31</td><td>12p13.31</td><td>                             </td><td></td><td>⋯</td><td></td><td></td><td></td><td>NA</td><td>URS00001F234A</td><td>A2M-AS1 </td><td></td><td>HGNC:27057</td><td>                              </td><td>          </td></tr>\n",
       "\t<tr><th scope=row>6</th><td>HGNC:23336</td><td>A2ML1   </td><td>alpha-2-macroglobulin like 1  </td><td>protein-coding gene</td><td>gene with protein product</td><td>Approved</td><td>12p13.31</td><td>12p13.31</td><td>FLJ25179|p170                </td><td></td><td>⋯</td><td></td><td></td><td></td><td>NA</td><td>             </td><td>        </td><td></td><td>HGNC:23336</td><td>ENST00000299698.12|NM_144670.6</td><td>HGNC:23336</td></tr>\n",
       "</tbody>\n",
       "</table>\n"
      ],
      "text/latex": [
       "A data.frame: 6 × 54\n",
       "\\begin{tabular}{r|lllllllllllllllllllll}\n",
       "  & hgnc\\_id & symbol & name & locus\\_group & locus\\_type & status & location & location\\_sortable & alias\\_symbol & alias\\_name & ⋯ & cd & lncrnadb & enzyme\\_id & intermediate\\_filament\\_db & rna\\_central\\_id & lncipedia & gtrnadb & agr & mane\\_select & gencc\\\\\n",
       "  & <chr> & <chr> & <chr> & <chr> & <chr> & <chr> & <chr> & <chr> & <chr> & <chr> & ⋯ & <chr> & <chr> & <chr> & <lgl> & <chr> & <chr> & <chr> & <chr> & <chr> & <chr>\\\\\n",
       "\\hline\n",
       "\t1 & HGNC:5     & A1BG     & alpha-1-B glycoprotein         & protein-coding gene & gene with protein product & Approved & 19q13.43 & 19q13.43 &                               &  & ⋯ &  &  &  & NA &               &          &  & HGNC:5     & ENST00000263100.8\\textbar{}NM\\_130786.4  &           \\\\\n",
       "\t2 & HGNC:37133 & A1BG-AS1 & A1BG antisense RNA 1           & non-coding RNA      & RNA, long non-coding      & Approved & 19q13.43 & 19q13.43 & FLJ23569                      &  & ⋯ &  &  &  & NA & URS00007E4F6E & A1BG-AS1 &  & HGNC:37133 &                                &           \\\\\n",
       "\t3 & HGNC:24086 & A1CF     & APOBEC1 complementation factor & protein-coding gene & gene with protein product & Approved & 10q11.23 & 10q11.23 & ACF\\textbar{}ASP\\textbar{}ACF64\\textbar{}ACF65\\textbar{}APOBEC1CF &  & ⋯ &  &  &  & NA &               &          &  & HGNC:24086 & ENST00000373997.8\\textbar{}NM\\_014576.4  &           \\\\\n",
       "\t4 & HGNC:7     & A2M      & alpha-2-macroglobulin          & protein-coding gene & gene with protein product & Approved & 12p13.31 & 12p13.31 & FWP007\\textbar{}S863-7\\textbar{}CPAMD5          &  & ⋯ &  &  &  & NA &               &          &  & HGNC:7     & ENST00000318602.12\\textbar{}NM\\_000014.6 & HGNC:7    \\\\\n",
       "\t5 & HGNC:27057 & A2M-AS1  & A2M antisense RNA 1            & non-coding RNA      & RNA, long non-coding      & Approved & 12p13.31 & 12p13.31 &                               &  & ⋯ &  &  &  & NA & URS00001F234A & A2M-AS1  &  & HGNC:27057 &                                &           \\\\\n",
       "\t6 & HGNC:23336 & A2ML1    & alpha-2-macroglobulin like 1   & protein-coding gene & gene with protein product & Approved & 12p13.31 & 12p13.31 & FLJ25179\\textbar{}p170                 &  & ⋯ &  &  &  & NA &               &          &  & HGNC:23336 & ENST00000299698.12\\textbar{}NM\\_144670.6 & HGNC:23336\\\\\n",
       "\\end{tabular}\n"
      ],
      "text/markdown": [
       "\n",
       "A data.frame: 6 × 54\n",
       "\n",
       "| <!--/--> | hgnc_id &lt;chr&gt; | symbol &lt;chr&gt; | name &lt;chr&gt; | locus_group &lt;chr&gt; | locus_type &lt;chr&gt; | status &lt;chr&gt; | location &lt;chr&gt; | location_sortable &lt;chr&gt; | alias_symbol &lt;chr&gt; | alias_name &lt;chr&gt; | ⋯ ⋯ | cd &lt;chr&gt; | lncrnadb &lt;chr&gt; | enzyme_id &lt;chr&gt; | intermediate_filament_db &lt;lgl&gt; | rna_central_id &lt;chr&gt; | lncipedia &lt;chr&gt; | gtrnadb &lt;chr&gt; | agr &lt;chr&gt; | mane_select &lt;chr&gt; | gencc &lt;chr&gt; |\n",
       "|---|---|---|---|---|---|---|---|---|---|---|---|---|---|---|---|---|---|---|---|---|---|\n",
       "| 1 | HGNC:5     | A1BG     | alpha-1-B glycoprotein         | protein-coding gene | gene with protein product | Approved | 19q13.43 | 19q13.43 | <!----> | <!----> | ⋯ | <!----> | <!----> | <!----> | NA | <!----> | <!----> | <!----> | HGNC:5     | ENST00000263100.8|NM_130786.4  | <!----> |\n",
       "| 2 | HGNC:37133 | A1BG-AS1 | A1BG antisense RNA 1           | non-coding RNA      | RNA, long non-coding      | Approved | 19q13.43 | 19q13.43 | FLJ23569                      | <!----> | ⋯ | <!----> | <!----> | <!----> | NA | URS00007E4F6E | A1BG-AS1 | <!----> | HGNC:37133 | <!----> | <!----> |\n",
       "| 3 | HGNC:24086 | A1CF     | APOBEC1 complementation factor | protein-coding gene | gene with protein product | Approved | 10q11.23 | 10q11.23 | ACF|ASP|ACF64|ACF65|APOBEC1CF | <!----> | ⋯ | <!----> | <!----> | <!----> | NA | <!----> | <!----> | <!----> | HGNC:24086 | ENST00000373997.8|NM_014576.4  | <!----> |\n",
       "| 4 | HGNC:7     | A2M      | alpha-2-macroglobulin          | protein-coding gene | gene with protein product | Approved | 12p13.31 | 12p13.31 | FWP007|S863-7|CPAMD5          | <!----> | ⋯ | <!----> | <!----> | <!----> | NA | <!----> | <!----> | <!----> | HGNC:7     | ENST00000318602.12|NM_000014.6 | HGNC:7     |\n",
       "| 5 | HGNC:27057 | A2M-AS1  | A2M antisense RNA 1            | non-coding RNA      | RNA, long non-coding      | Approved | 12p13.31 | 12p13.31 | <!----> | <!----> | ⋯ | <!----> | <!----> | <!----> | NA | URS00001F234A | A2M-AS1  | <!----> | HGNC:27057 | <!----> | <!----> |\n",
       "| 6 | HGNC:23336 | A2ML1    | alpha-2-macroglobulin like 1   | protein-coding gene | gene with protein product | Approved | 12p13.31 | 12p13.31 | FLJ25179|p170                 | <!----> | ⋯ | <!----> | <!----> | <!----> | NA | <!----> | <!----> | <!----> | HGNC:23336 | ENST00000299698.12|NM_144670.6 | HGNC:23336 |\n",
       "\n"
      ],
      "text/plain": [
       "  hgnc_id    symbol   name                           locus_group        \n",
       "1 HGNC:5     A1BG     alpha-1-B glycoprotein         protein-coding gene\n",
       "2 HGNC:37133 A1BG-AS1 A1BG antisense RNA 1           non-coding RNA     \n",
       "3 HGNC:24086 A1CF     APOBEC1 complementation factor protein-coding gene\n",
       "4 HGNC:7     A2M      alpha-2-macroglobulin          protein-coding gene\n",
       "5 HGNC:27057 A2M-AS1  A2M antisense RNA 1            non-coding RNA     \n",
       "6 HGNC:23336 A2ML1    alpha-2-macroglobulin like 1   protein-coding gene\n",
       "  locus_type                status   location location_sortable\n",
       "1 gene with protein product Approved 19q13.43 19q13.43         \n",
       "2 RNA, long non-coding      Approved 19q13.43 19q13.43         \n",
       "3 gene with protein product Approved 10q11.23 10q11.23         \n",
       "4 gene with protein product Approved 12p13.31 12p13.31         \n",
       "5 RNA, long non-coding      Approved 12p13.31 12p13.31         \n",
       "6 gene with protein product Approved 12p13.31 12p13.31         \n",
       "  alias_symbol                  alias_name ⋯ cd lncrnadb enzyme_id\n",
       "1                                          ⋯                      \n",
       "2 FLJ23569                                 ⋯                      \n",
       "3 ACF|ASP|ACF64|ACF65|APOBEC1CF            ⋯                      \n",
       "4 FWP007|S863-7|CPAMD5                     ⋯                      \n",
       "5                                          ⋯                      \n",
       "6 FLJ25179|p170                            ⋯                      \n",
       "  intermediate_filament_db rna_central_id lncipedia gtrnadb agr       \n",
       "1 NA                                                        HGNC:5    \n",
       "2 NA                       URS00007E4F6E  A1BG-AS1          HGNC:37133\n",
       "3 NA                                                        HGNC:24086\n",
       "4 NA                                                        HGNC:7    \n",
       "5 NA                       URS00001F234A  A2M-AS1           HGNC:27057\n",
       "6 NA                                                        HGNC:23336\n",
       "  mane_select                    gencc     \n",
       "1 ENST00000263100.8|NM_130786.4            \n",
       "2                                          \n",
       "3 ENST00000373997.8|NM_014576.4            \n",
       "4 ENST00000318602.12|NM_000014.6 HGNC:7    \n",
       "5                                          \n",
       "6 ENST00000299698.12|NM_144670.6 HGNC:23336"
      ]
     },
     "metadata": {},
     "output_type": "display_data"
    }
   ],
   "source": [
    "# download HGNC complete txt file\n",
    "download.file(\n",
    "  url = \"https://storage.googleapis.com/public-download-files/hgnc/tsv/tsv/hgnc_complete_set.txt\",\n",
    "  destfile = \"hgnc_complete_set.txt\",\n",
    "  method = \"auto\"\n",
    ")\n",
    "\n",
    "# Optional: read into R\n",
    "hgnc_data <- read.delim(\"hgnc_complete_set.txt\", sep = \"\\t\", header = TRUE)\n",
    "head(hgnc_data)\n",
    "# Save to file\n",
    "write.table(hgnc_data, file = \"data/HGNC_gene_info_full.tsv\", sep = \"\\t\", row.names = FALSE, quote = FALSE)"
   ]
  },
  {
   "cell_type": "code",
   "execution_count": 3,
   "id": "fd7e16a5-09c8-4e8b-857b-08c695cd9d2b",
   "metadata": {},
   "outputs": [
    {
     "data": {
      "text/html": [
       "<style>\n",
       ".list-inline {list-style: none; margin:0; padding: 0}\n",
       ".list-inline>li {display: inline-block}\n",
       ".list-inline>li:not(:last-child)::after {content: \"\\00b7\"; padding: 0 .5ex}\n",
       "</style>\n",
       "<ol class=list-inline><li>'hgnc_id'</li><li>'symbol'</li><li>'name'</li><li>'locus_group'</li><li>'locus_type'</li><li>'status'</li><li>'location'</li><li>'location_sortable'</li><li>'alias_symbol'</li><li>'alias_name'</li><li>'prev_symbol'</li><li>'prev_name'</li><li>'gene_group'</li><li>'gene_group_id'</li><li>'date_approved_reserved'</li><li>'date_symbol_changed'</li><li>'date_name_changed'</li><li>'date_modified'</li><li>'entrez_id'</li><li>'ensembl_gene_id'</li><li>'vega_id'</li><li>'ucsc_id'</li><li>'ena'</li><li>'refseq_accession'</li><li>'ccds_id'</li><li>'uniprot_ids'</li><li>'pubmed_id'</li><li>'mgd_id'</li><li>'rgd_id'</li><li>'lsdb'</li><li>'cosmic'</li><li>'omim_id'</li><li>'mirbase'</li><li>'homeodb'</li><li>'snornabase'</li><li>'bioparadigms_slc'</li><li>'orphanet'</li><li>'pseudogene.org'</li><li>'horde_id'</li><li>'merops'</li><li>'imgt'</li><li>'iuphar'</li><li>'kznf_gene_catalog'</li><li>'mamit.trnadb'</li><li>'cd'</li><li>'lncrnadb'</li><li>'enzyme_id'</li><li>'intermediate_filament_db'</li><li>'rna_central_id'</li><li>'lncipedia'</li><li>'gtrnadb'</li><li>'agr'</li><li>'mane_select'</li><li>'gencc'</li></ol>\n"
      ],
      "text/latex": [
       "\\begin{enumerate*}\n",
       "\\item 'hgnc\\_id'\n",
       "\\item 'symbol'\n",
       "\\item 'name'\n",
       "\\item 'locus\\_group'\n",
       "\\item 'locus\\_type'\n",
       "\\item 'status'\n",
       "\\item 'location'\n",
       "\\item 'location\\_sortable'\n",
       "\\item 'alias\\_symbol'\n",
       "\\item 'alias\\_name'\n",
       "\\item 'prev\\_symbol'\n",
       "\\item 'prev\\_name'\n",
       "\\item 'gene\\_group'\n",
       "\\item 'gene\\_group\\_id'\n",
       "\\item 'date\\_approved\\_reserved'\n",
       "\\item 'date\\_symbol\\_changed'\n",
       "\\item 'date\\_name\\_changed'\n",
       "\\item 'date\\_modified'\n",
       "\\item 'entrez\\_id'\n",
       "\\item 'ensembl\\_gene\\_id'\n",
       "\\item 'vega\\_id'\n",
       "\\item 'ucsc\\_id'\n",
       "\\item 'ena'\n",
       "\\item 'refseq\\_accession'\n",
       "\\item 'ccds\\_id'\n",
       "\\item 'uniprot\\_ids'\n",
       "\\item 'pubmed\\_id'\n",
       "\\item 'mgd\\_id'\n",
       "\\item 'rgd\\_id'\n",
       "\\item 'lsdb'\n",
       "\\item 'cosmic'\n",
       "\\item 'omim\\_id'\n",
       "\\item 'mirbase'\n",
       "\\item 'homeodb'\n",
       "\\item 'snornabase'\n",
       "\\item 'bioparadigms\\_slc'\n",
       "\\item 'orphanet'\n",
       "\\item 'pseudogene.org'\n",
       "\\item 'horde\\_id'\n",
       "\\item 'merops'\n",
       "\\item 'imgt'\n",
       "\\item 'iuphar'\n",
       "\\item 'kznf\\_gene\\_catalog'\n",
       "\\item 'mamit.trnadb'\n",
       "\\item 'cd'\n",
       "\\item 'lncrnadb'\n",
       "\\item 'enzyme\\_id'\n",
       "\\item 'intermediate\\_filament\\_db'\n",
       "\\item 'rna\\_central\\_id'\n",
       "\\item 'lncipedia'\n",
       "\\item 'gtrnadb'\n",
       "\\item 'agr'\n",
       "\\item 'mane\\_select'\n",
       "\\item 'gencc'\n",
       "\\end{enumerate*}\n"
      ],
      "text/markdown": [
       "1. 'hgnc_id'\n",
       "2. 'symbol'\n",
       "3. 'name'\n",
       "4. 'locus_group'\n",
       "5. 'locus_type'\n",
       "6. 'status'\n",
       "7. 'location'\n",
       "8. 'location_sortable'\n",
       "9. 'alias_symbol'\n",
       "10. 'alias_name'\n",
       "11. 'prev_symbol'\n",
       "12. 'prev_name'\n",
       "13. 'gene_group'\n",
       "14. 'gene_group_id'\n",
       "15. 'date_approved_reserved'\n",
       "16. 'date_symbol_changed'\n",
       "17. 'date_name_changed'\n",
       "18. 'date_modified'\n",
       "19. 'entrez_id'\n",
       "20. 'ensembl_gene_id'\n",
       "21. 'vega_id'\n",
       "22. 'ucsc_id'\n",
       "23. 'ena'\n",
       "24. 'refseq_accession'\n",
       "25. 'ccds_id'\n",
       "26. 'uniprot_ids'\n",
       "27. 'pubmed_id'\n",
       "28. 'mgd_id'\n",
       "29. 'rgd_id'\n",
       "30. 'lsdb'\n",
       "31. 'cosmic'\n",
       "32. 'omim_id'\n",
       "33. 'mirbase'\n",
       "34. 'homeodb'\n",
       "35. 'snornabase'\n",
       "36. 'bioparadigms_slc'\n",
       "37. 'orphanet'\n",
       "38. 'pseudogene.org'\n",
       "39. 'horde_id'\n",
       "40. 'merops'\n",
       "41. 'imgt'\n",
       "42. 'iuphar'\n",
       "43. 'kznf_gene_catalog'\n",
       "44. 'mamit.trnadb'\n",
       "45. 'cd'\n",
       "46. 'lncrnadb'\n",
       "47. 'enzyme_id'\n",
       "48. 'intermediate_filament_db'\n",
       "49. 'rna_central_id'\n",
       "50. 'lncipedia'\n",
       "51. 'gtrnadb'\n",
       "52. 'agr'\n",
       "53. 'mane_select'\n",
       "54. 'gencc'\n",
       "\n",
       "\n"
      ],
      "text/plain": [
       " [1] \"hgnc_id\"                  \"symbol\"                  \n",
       " [3] \"name\"                     \"locus_group\"             \n",
       " [5] \"locus_type\"               \"status\"                  \n",
       " [7] \"location\"                 \"location_sortable\"       \n",
       " [9] \"alias_symbol\"             \"alias_name\"              \n",
       "[11] \"prev_symbol\"              \"prev_name\"               \n",
       "[13] \"gene_group\"               \"gene_group_id\"           \n",
       "[15] \"date_approved_reserved\"   \"date_symbol_changed\"     \n",
       "[17] \"date_name_changed\"        \"date_modified\"           \n",
       "[19] \"entrez_id\"                \"ensembl_gene_id\"         \n",
       "[21] \"vega_id\"                  \"ucsc_id\"                 \n",
       "[23] \"ena\"                      \"refseq_accession\"        \n",
       "[25] \"ccds_id\"                  \"uniprot_ids\"             \n",
       "[27] \"pubmed_id\"                \"mgd_id\"                  \n",
       "[29] \"rgd_id\"                   \"lsdb\"                    \n",
       "[31] \"cosmic\"                   \"omim_id\"                 \n",
       "[33] \"mirbase\"                  \"homeodb\"                 \n",
       "[35] \"snornabase\"               \"bioparadigms_slc\"        \n",
       "[37] \"orphanet\"                 \"pseudogene.org\"          \n",
       "[39] \"horde_id\"                 \"merops\"                  \n",
       "[41] \"imgt\"                     \"iuphar\"                  \n",
       "[43] \"kznf_gene_catalog\"        \"mamit.trnadb\"            \n",
       "[45] \"cd\"                       \"lncrnadb\"                \n",
       "[47] \"enzyme_id\"                \"intermediate_filament_db\"\n",
       "[49] \"rna_central_id\"           \"lncipedia\"               \n",
       "[51] \"gtrnadb\"                  \"agr\"                     \n",
       "[53] \"mane_select\"              \"gencc\"                   "
      ]
     },
     "metadata": {},
     "output_type": "display_data"
    }
   ],
   "source": [
    "colnames(hgnc_data)"
   ]
  },
  {
   "cell_type": "code",
   "execution_count": 2,
   "id": "a5b0f369-9ded-4d34-858a-dedc2d360b0a",
   "metadata": {},
   "outputs": [],
   "source": [
    "#listAttributes(ensembl)"
   ]
  },
  {
   "cell_type": "code",
   "execution_count": 9,
   "id": "324bb4ac-7732-4ed1-9eec-07cdabbe928e",
   "metadata": {},
   "outputs": [],
   "source": [
    "# Save to file\n",
    "write.table(hgnc_data, file = \"data/HGNC_gene_info_full.tsv\", sep = \"\\t\", row.names = FALSE, quote = FALSE)"
   ]
  },
  {
   "cell_type": "code",
   "execution_count": null,
   "id": "8badc343-6b0f-4b82-8fb5-7f0e0d36d439",
   "metadata": {},
   "outputs": [],
   "source": []
  }
 ],
 "metadata": {
  "kernelspec": {
   "display_name": "R",
   "language": "R",
   "name": "ir"
  },
  "language_info": {
   "codemirror_mode": "r",
   "file_extension": ".r",
   "mimetype": "text/x-r-source",
   "name": "R",
   "pygments_lexer": "r",
   "version": "4.3.2"
  }
 },
 "nbformat": 4,
 "nbformat_minor": 5
}
