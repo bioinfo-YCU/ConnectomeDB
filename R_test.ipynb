{
 "cells": [
  {
   "cell_type": "markdown",
   "id": "a7ba551e-d85e-497c-ac8f-68668162b62b",
   "metadata": {},
   "source": [
    "### Notebook for R"
   ]
  },
  {
   "cell_type": "markdown",
   "id": "40200cb4-8517-4dd5-86b4-02e23051de5e",
   "metadata": {},
   "source": [
    "### R Notebook"
   ]
  },
  {
   "cell_type": "markdown",
   "id": "08823232-7311-4f98-b0a7-69db50a7ac0a",
   "metadata": {},
   "source": [
    "# R Notebook"
   ]
  },
  {
   "cell_type": "code",
   "execution_count": 1,
   "id": "7c705768-ddd2-4722-a439-7949d29f86f3",
   "metadata": {},
   "outputs": [
    {
     "data": {
      "text/html": [
       "'15-Jan-2025'"
      ],
      "text/latex": [
       "'15-Jan-2025'"
      ],
      "text/markdown": [
       "'15-Jan-2025'"
      ],
      "text/plain": [
       "[1] \"15-Jan-2025\""
      ]
     },
     "metadata": {},
     "output_type": "display_data"
    }
   ],
   "source": [
    "format(Sys.Date(), \"%d-%b-%Y\")"
   ]
  },
  {
   "cell_type": "code",
   "execution_count": 2,
   "id": "5eae9b64-a549-4754-8767-0a1414a501f3",
   "metadata": {},
   "outputs": [
    {
     "name": "stderr",
     "output_type": "stream",
     "text": [
      "'getOption(\"repos\")' replaces Bioconductor standard repositories, see\n",
      "'help(\"repositories\", package = \"BiocManager\")' for details.\n",
      "Replacement repositories:\n",
      "    CRAN: https://cran.r-project.org\n",
      "\n",
      "Bioconductor version 3.18 (BiocManager 1.30.25), R 4.3.2 (2023-10-31)\n",
      "\n",
      "Installing package(s) 'InterMineR'\n",
      "\n",
      "Warning message:\n",
      "“ 依存対象 (dependency) ‘Matrix’ が利用できません ”\n",
      " 依存対象 (dependency) ‘SparseArray’, ‘S4Arrays’, ‘DelayedArray’, ‘igraph’, ‘SummarizedExperiment’ もインストールします \n",
      "\n",
      "\n",
      "Warning message in install.packages(...):\n",
      "“ パッケージ ‘S4Arrays’ のインストールは、ゼロでない終了値をもちました ”\n",
      "Warning message in install.packages(...):\n",
      "“ パッケージ ‘igraph’ のインストールは、ゼロでない終了値をもちました ”\n",
      "Warning message in install.packages(...):\n",
      "“ パッケージ ‘SparseArray’ のインストールは、ゼロでない終了値をもちました ”\n",
      "Warning message in install.packages(...):\n",
      "“ パッケージ ‘DelayedArray’ のインストールは、ゼロでない終了値をもちました ”\n",
      "Warning message in install.packages(...):\n",
      "“ パッケージ ‘SummarizedExperiment’ のインストールは、ゼロでない終了値をもちました ”\n",
      "Warning message in install.packages(...):\n",
      "“ パッケージ ‘InterMineR’ のインストールは、ゼロでない終了値をもちました ”\n",
      " '.Library' 中のパッケージの HTML 索引を更新します \n",
      "\n",
      "Making 'packages.html' ...\n",
      "  完了 \n",
      "\n",
      "Old packages: 'BH', 'Rcpp', 'askpass', 'bit', 'bit64', 'broom', 'cli',\n",
      "  'commonmark', 'cpp11', 'crayon', 'curl', 'data.table', 'digest', 'evaluate',\n",
      "  'fontawesome', 'fs', 'future.apply', 'glue', 'gtable', 'jsonlite', 'knitr',\n",
      "  'later', 'lubridate', 'matrixStats', 'openssl', 'parallelly', 'pbdZMQ',\n",
      "  'pillar', 'processx', 'progressr', 'promises', 'ps', 'ragg', 'repr', 'rlang',\n",
      "  'rmarkdown', 'rstudioapi', 'shiny', 'spatstat.univar', 'spatstat.utils',\n",
      "  'sys', 'textshaping', 'tinytex', 'uuid', 'withr', 'xfun'\n",
      "\n"
     ]
    }
   ],
   "source": [
    "BiocManager::install(\"InterMineR\")"
   ]
  },
  {
   "cell_type": "code",
   "execution_count": 1,
   "id": "844dab5f-efa4-431d-b4d7-c0a4e7e73129",
   "metadata": {},
   "outputs": [
    {
     "ename": "ERROR",
     "evalue": "Error in library(InterMineR):  ‘InterMineR’ という名前のパッケージはありません \n",
     "output_type": "error",
     "traceback": [
      "Error in library(InterMineR):  ‘InterMineR’ という名前のパッケージはありません \nTraceback:\n",
      "1. library(InterMineR)"
     ]
    }
   ],
   "source": [
    "library(InterMineR)\n",
    "im <- initInterMine(mine = \"HumanMine\")\n",
    "query <- getTemplateQuery(im, \"Gene_Orthologs\")\n",
    "query$where[[1]]$value <- \"BRCA1\"  # replace with your HGNC symbol\n",
    "result <- runQuery(im, query)"
   ]
  },
  {
   "cell_type": "code",
   "execution_count": null,
   "id": "bb3c50c8-f849-4283-a5bc-d73e328ed53d",
   "metadata": {},
   "outputs": [],
   "source": [
    "result"
   ]
  },
  {
   "cell_type": "code",
   "execution_count": null,
   "id": "051a490c-6c6a-4813-8e9d-19d8237085ed",
   "metadata": {},
   "outputs": [],
   "source": []
  },
  {
   "cell_type": "code",
   "execution_count": null,
   "id": "df5e988b-bc26-4197-80ad-5f192676979a",
   "metadata": {},
   "outputs": [],
   "source": []
  }
 ],
 "metadata": {
  "kernelspec": {
   "display_name": "R",
   "language": "R",
   "name": "ir"
  },
  "language_info": {
   "codemirror_mode": "r",
   "file_extension": ".r",
   "mimetype": "text/x-r-source",
   "name": "R",
   "pygments_lexer": "r",
   "version": "4.3.2"
  }
 },
 "nbformat": 4,
 "nbformat_minor": 5
}
