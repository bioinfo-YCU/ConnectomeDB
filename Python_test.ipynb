{
 "cells": [
  {
   "cell_type": "markdown",
   "id": "fcc5ddc1-519e-439c-a130-3dd8bcd181bd",
   "metadata": {},
   "source": [
    "# Python Notebook"
   ]
  },
  {
   "cell_type": "code",
   "execution_count": null,
   "id": "b443872e-66e7-427a-a031-75a16471e8a3",
   "metadata": {},
   "outputs": [],
   "source": [
    "def add_row(change):\n",
    "    global gene_pair\n",
    "    # Add a new row at the top with None values\n",
    "    new_row = {col: None for col in gene_pair.columns}\n",
    "    gene_pair = pd.DataFrame([new_row] + gene_pair.to_dict(orient=\"records\"))\n",
    "    update_table()\n",
    "\n",
    "# Function to remove the last row of the dataframe\n",
    "def remove_row(change):\n",
    "    global gene_pair\n",
    "    if len(gene_pair) > 0:\n",
    "        gene_pair = gene_pair[:-1]  # Remove the last row\n",
    "        update_table()"
   ]
  },
  {
   "cell_type": "code",
   "execution_count": 65,
   "id": "228f917d-b5b9-409e-bc04-7b95afd9a725",
   "metadata": {},
   "outputs": [
    {
     "data": {
      "text/plain": [
       "Index(['Human LR Pair', 'Ligand', 'Receptor', 'Interaction Source',\n",
       "       'PMID support', 'Ligand HGNC ID', 'Ligand location', 'Receptor HGNC ID',\n",
       "       'Receptor location', 'Perplexity', 'Ligand name', 'Ligand MGI ID',\n",
       "       'Ligand RGD ID', 'Mouse Ligand', 'Rat Ligand', 'Ligand ZFIN ID',\n",
       "       'Ligand ZFIN ID', 'Zebrafish Ligand', 'Zebrafish Ligand name',\n",
       "       'Receptor name', 'Receptor MGI ID', 'Receptor RGD ID', 'Mouse Receptor',\n",
       "       'Rat Receptor', 'Ligand ZFIN ID', 'Ligand ZFIN ID',\n",
       "       'Zebrafish Receptor', 'Zebrafish Receptor name', 'HGNC L R',\n",
       "       'sanity check', 'curator', 'secondary source?'],\n",
       "      dtype='object')"
      ]
     },
     "execution_count": 65,
     "metadata": {},
     "output_type": "execute_result"
    }
   ],
   "source": [
    "gene_pair.columns"
   ]
  },
  {
   "cell_type": "code",
   "execution_count": 9,
   "id": "19161b56-8989-458f-80ef-d1e3eb97e029",
   "metadata": {},
   "outputs": [
    {
     "name": "stdout",
     "output_type": "stream",
     "text": [
      "2312       TAFA4 FPR1\n",
      "2333    SLAMF1 SLAMF1\n",
      "2342     FLRT3 ADGRL3\n",
      "2344     TENM2 ADGRL1\n",
      "Name: Human LR Pair, dtype: object\n"
     ]
    }
   ],
   "source": [
    "duplicates = gene_pair00[gene_pair00[\"Human LR Pair\"].duplicated()]\n",
    "print(duplicates[\"Human LR Pair\"])\n"
   ]
  },
  {
   "cell_type": "code",
   "execution_count": null,
   "id": "1fad95ba-e2c9-43a8-be98-cce3d1cbdf5c",
   "metadata": {},
   "outputs": [],
   "source": []
  }
 ],
 "metadata": {
  "kernelspec": {
   "display_name": "quarto_llm_env",
   "language": "python",
   "name": "quarto_llm_env"
  },
  "language_info": {
   "codemirror_mode": {
    "name": "ipython",
    "version": 3
   },
   "file_extension": ".py",
   "mimetype": "text/x-python",
   "name": "python",
   "nbconvert_exporter": "python",
   "pygments_lexer": "ipython3",
   "version": "3.11.11"
  }
 },
 "nbformat": 4,
 "nbformat_minor": 5
}
