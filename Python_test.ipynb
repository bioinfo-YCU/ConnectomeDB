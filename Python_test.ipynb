{
 "cells": [
  {
   "cell_type": "markdown",
   "id": "fcc5ddc1-519e-439c-a130-3dd8bcd181bd",
   "metadata": {},
   "source": [
    "# Python Notebook"
   ]
  },
  {
   "cell_type": "code",
   "execution_count": null,
   "id": "b443872e-66e7-427a-a031-75a16471e8a3",
   "metadata": {},
   "outputs": [],
   "source": [
    "def add_row(change):\n",
    "    global gene_pair\n",
    "    # Add a new row at the top with None values\n",
    "    new_row = {col: None for col in gene_pair.columns}\n",
    "    gene_pair = pd.DataFrame([new_row] + gene_pair.to_dict(orient=\"records\"))\n",
    "    update_table()\n",
    "\n",
    "# Function to remove the last row of the dataframe\n",
    "def remove_row(change):\n",
    "    global gene_pair\n",
    "    if len(gene_pair) > 0:\n",
    "        gene_pair = gene_pair[:-1]  # Remove the last row\n",
    "        update_table()"
   ]
  }
 ],
 "metadata": {
  "kernelspec": {
   "display_name": "quarto_env",
   "language": "python",
   "name": "quarto_env"
  },
  "language_info": {
   "codemirror_mode": {
    "name": "ipython",
    "version": 3
   },
   "file_extension": ".py",
   "mimetype": "text/x-python",
   "name": "python",
   "nbconvert_exporter": "python",
   "pygments_lexer": "ipython3",
   "version": "3.13.1"
  }
 },
 "nbformat": 4,
 "nbformat_minor": 5
}
