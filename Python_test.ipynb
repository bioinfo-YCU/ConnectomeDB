{
 "cells": [
  {
   "cell_type": "markdown",
   "id": "fcc5ddc1-519e-439c-a130-3dd8bcd181bd",
   "metadata": {},
   "source": [
    "# Python Notebook"
   ]
  },
  {
   "cell_type": "code",
   "execution_count": null,
   "id": "c04b101e-a110-409d-8c0e-9d8a9335d59a",
   "metadata": {},
   "outputs": [],
   "source": []
  },
  {
   "cell_type": "code",
   "execution_count": null,
   "id": "b443872e-66e7-427a-a031-75a16471e8a3",
   "metadata": {},
   "outputs": [],
   "source": [
    "def add_row(change):\n",
    "    global gene_pair\n",
    "    # Add a new row at the top with None values\n",
    "    new_row = {col: None for col in gene_pair.columns}\n",
    "    gene_pair = pd.DataFrame([new_row] + gene_pair.to_dict(orient=\"records\"))\n",
    "    update_table()\n",
    "\n",
    "# Function to remove the last row of the dataframe\n",
    "def remove_row(change):\n",
    "    global gene_pair\n",
    "    if len(gene_pair) > 0:\n",
    "        gene_pair = gene_pair[:-1]  # Remove the last row\n",
    "        update_table()"
   ]
  },
  {
   "cell_type": "code",
   "execution_count": 65,
   "id": "228f917d-b5b9-409e-bc04-7b95afd9a725",
   "metadata": {},
   "outputs": [
    {
     "data": {
      "text/plain": [
       "Index(['Human LR Pair', 'Ligand', 'Receptor', 'Interaction Source',\n",
       "       'PMID support', 'Ligand HGNC ID', 'Ligand location', 'Receptor HGNC ID',\n",
       "       'Receptor location', 'Perplexity', 'Ligand name', 'Ligand MGI ID',\n",
       "       'Ligand RGD ID', 'Mouse Ligand', 'Rat Ligand', 'Ligand ZFIN ID',\n",
       "       'Ligand ZFIN ID', 'Zebrafish Ligand', 'Zebrafish Ligand name',\n",
       "       'Receptor name', 'Receptor MGI ID', 'Receptor RGD ID', 'Mouse Receptor',\n",
       "       'Rat Receptor', 'Ligand ZFIN ID', 'Ligand ZFIN ID',\n",
       "       'Zebrafish Receptor', 'Zebrafish Receptor name', 'HGNC L R',\n",
       "       'sanity check', 'curator', 'secondary source?'],\n",
       "      dtype='object')"
      ]
     },
     "execution_count": 65,
     "metadata": {},
     "output_type": "execute_result"
    }
   ],
   "source": [
    "gene_pair.columns"
   ]
  },
  {
   "cell_type": "code",
   "execution_count": 9,
   "id": "19161b56-8989-458f-80ef-d1e3eb97e029",
   "metadata": {},
   "outputs": [
    {
     "name": "stdout",
     "output_type": "stream",
     "text": [
      "2312       TAFA4 FPR1\n",
      "2333    SLAMF1 SLAMF1\n",
      "2342     FLRT3 ADGRL3\n",
      "2344     TENM2 ADGRL1\n",
      "Name: Human LR Pair, dtype: object\n"
     ]
    }
   ],
   "source": [
    "duplicates = gene_pair00[gene_pair00[\"Human LR Pair\"].duplicated()]\n",
    "print(duplicates[\"Human LR Pair\"])\n"
   ]
  },
  {
   "cell_type": "markdown",
   "id": "f7f4b069-0370-424e-9b83-4caaefce586d",
   "metadata": {},
   "source": [
    "## Testing Liana+"
   ]
  },
  {
   "cell_type": "code",
   "execution_count": 14,
   "id": "2c78bfa0-43b3-4857-9ca4-41dcd8a230e6",
   "metadata": {},
   "outputs": [],
   "source": [
    "import liana as li\n",
    "import omnipath as op\n",
    "import decoupler as dc\n",
    "import pandas as pd"
   ]
  },
  {
   "cell_type": "code",
   "execution_count": 15,
   "id": "766bd3fd-d53d-4586-8d1e-09befbaa9675",
   "metadata": {},
   "outputs": [],
   "source": [
    "import sys\n",
    "import os\n",
    "sys.path.append(os.path.abspath(\"src\"))  # Add src directory to path\n",
    "from createDataTable import gene_pair0"
   ]
  },
  {
   "cell_type": "markdown",
   "id": "9f681087-38ba-4cfa-a105-8707ff70ac5f",
   "metadata": {},
   "source": [
    "### Pathway Annotations"
   ]
  },
  {
   "cell_type": "code",
   "execution_count": 43,
   "id": "a67bd553-c8df-4970-9811-435c46e2c51c",
   "metadata": {},
   "outputs": [
    {
     "data": {
      "text/html": [
       "<div>\n",
       "<style scoped>\n",
       "    .dataframe tbody tr th:only-of-type {\n",
       "        vertical-align: middle;\n",
       "    }\n",
       "\n",
       "    .dataframe tbody tr th {\n",
       "        vertical-align: top;\n",
       "    }\n",
       "\n",
       "    .dataframe thead th {\n",
       "        text-align: right;\n",
       "    }\n",
       "</style>\n",
       "<table border=\"1\" class=\"dataframe\">\n",
       "  <thead>\n",
       "    <tr style=\"text-align: right;\">\n",
       "      <th></th>\n",
       "      <th>source</th>\n",
       "      <th>target</th>\n",
       "      <th>weight</th>\n",
       "      <th>p_value</th>\n",
       "    </tr>\n",
       "  </thead>\n",
       "  <tbody>\n",
       "    <tr>\n",
       "      <th>0</th>\n",
       "      <td>Androgen</td>\n",
       "      <td>TMPRSS2</td>\n",
       "      <td>11.490631</td>\n",
       "      <td>0.0</td>\n",
       "    </tr>\n",
       "    <tr>\n",
       "      <th>1</th>\n",
       "      <td>Androgen</td>\n",
       "      <td>NKX3-1</td>\n",
       "      <td>10.622551</td>\n",
       "      <td>0.0</td>\n",
       "    </tr>\n",
       "    <tr>\n",
       "      <th>2</th>\n",
       "      <td>Androgen</td>\n",
       "      <td>MBOAT2</td>\n",
       "      <td>10.472733</td>\n",
       "      <td>0.0</td>\n",
       "    </tr>\n",
       "    <tr>\n",
       "      <th>3</th>\n",
       "      <td>Androgen</td>\n",
       "      <td>KLK2</td>\n",
       "      <td>10.176186</td>\n",
       "      <td>0.0</td>\n",
       "    </tr>\n",
       "    <tr>\n",
       "      <th>4</th>\n",
       "      <td>Androgen</td>\n",
       "      <td>SARG</td>\n",
       "      <td>11.386852</td>\n",
       "      <td>0.0</td>\n",
       "    </tr>\n",
       "    <tr>\n",
       "      <th>...</th>\n",
       "      <td>...</td>\n",
       "      <td>...</td>\n",
       "      <td>...</td>\n",
       "      <td>...</td>\n",
       "    </tr>\n",
       "    <tr>\n",
       "      <th>139455</th>\n",
       "      <td>p53</td>\n",
       "      <td>SIN3B</td>\n",
       "      <td>0.347078</td>\n",
       "      <td>0.269528</td>\n",
       "    </tr>\n",
       "    <tr>\n",
       "      <th>139456</th>\n",
       "      <td>p53</td>\n",
       "      <td>SS18</td>\n",
       "      <td>-0.516365</td>\n",
       "      <td>0.26954</td>\n",
       "    </tr>\n",
       "    <tr>\n",
       "      <th>139457</th>\n",
       "      <td>p53</td>\n",
       "      <td>CAPN3</td>\n",
       "      <td>1.14331</td>\n",
       "      <td>0.269546</td>\n",
       "    </tr>\n",
       "    <tr>\n",
       "      <th>139458</th>\n",
       "      <td>p53</td>\n",
       "      <td>BRICD5</td>\n",
       "      <td>-0.38892</td>\n",
       "      <td>0.269551</td>\n",
       "    </tr>\n",
       "    <tr>\n",
       "      <th>139459</th>\n",
       "      <td>p53</td>\n",
       "      <td>APOLD1</td>\n",
       "      <td>-0.915475</td>\n",
       "      <td>0.269554</td>\n",
       "    </tr>\n",
       "  </tbody>\n",
       "</table>\n",
       "<p>139460 rows × 4 columns</p>\n",
       "</div>"
      ],
      "text/plain": [
       "          source   target     weight   p_value\n",
       "0       Androgen  TMPRSS2  11.490631       0.0\n",
       "1       Androgen   NKX3-1  10.622551       0.0\n",
       "2       Androgen   MBOAT2  10.472733       0.0\n",
       "3       Androgen     KLK2  10.176186       0.0\n",
       "4       Androgen     SARG  11.386852       0.0\n",
       "...          ...      ...        ...       ...\n",
       "139455       p53    SIN3B   0.347078  0.269528\n",
       "139456       p53     SS18  -0.516365   0.26954\n",
       "139457       p53    CAPN3    1.14331  0.269546\n",
       "139458       p53   BRICD5   -0.38892  0.269551\n",
       "139459       p53   APOLD1  -0.915475  0.269554\n",
       "\n",
       "[139460 rows x 4 columns]"
      ]
     },
     "execution_count": 43,
     "metadata": {},
     "output_type": "execute_result"
    }
   ],
   "source": [
    "# load PROGENy pathways, we use decoupler as a proxy as it formats the data in a more convenient way\n",
    "progeny = dc.get_progeny(top=10000)\n",
    "progeny"
   ]
  },
  {
   "cell_type": "code",
   "execution_count": 44,
   "id": "95b2a08f-d44b-48ce-8a26-4f74ec640a51",
   "metadata": {},
   "outputs": [],
   "source": [
    "lr_pairs = gene_pair0[[\"Ligand\", \"Receptor\"]]\n",
    "lr_pairs.columns = lr_pairs.columns.str.lower()"
   ]
  },
  {
   "cell_type": "code",
   "execution_count": 45,
   "id": "c7f4b57a-700a-4e04-9c95-f33719a4f877",
   "metadata": {},
   "outputs": [
    {
     "data": {
      "text/html": [
       "<div>\n",
       "<style scoped>\n",
       "    .dataframe tbody tr th:only-of-type {\n",
       "        vertical-align: middle;\n",
       "    }\n",
       "\n",
       "    .dataframe tbody tr th {\n",
       "        vertical-align: top;\n",
       "    }\n",
       "\n",
       "    .dataframe thead th {\n",
       "        text-align: right;\n",
       "    }\n",
       "</style>\n",
       "<table border=\"1\" class=\"dataframe\">\n",
       "  <thead>\n",
       "    <tr style=\"text-align: right;\">\n",
       "      <th></th>\n",
       "      <th>ligand</th>\n",
       "      <th>receptor</th>\n",
       "    </tr>\n",
       "  </thead>\n",
       "  <tbody>\n",
       "    <tr>\n",
       "      <th>0</th>\n",
       "      <td>CCL3L3</td>\n",
       "      <td>ACKR2</td>\n",
       "    </tr>\n",
       "    <tr>\n",
       "      <th>1</th>\n",
       "      <td>DEFB103B</td>\n",
       "      <td>CCR2</td>\n",
       "    </tr>\n",
       "    <tr>\n",
       "      <th>2</th>\n",
       "      <td>CCL3L3</td>\n",
       "      <td>CCR5</td>\n",
       "    </tr>\n",
       "    <tr>\n",
       "      <th>3</th>\n",
       "      <td>DEFB103B</td>\n",
       "      <td>CCR6</td>\n",
       "    </tr>\n",
       "    <tr>\n",
       "      <th>4</th>\n",
       "      <td>DEFB4A</td>\n",
       "      <td>CCR6</td>\n",
       "    </tr>\n",
       "    <tr>\n",
       "      <th>...</th>\n",
       "      <td>...</td>\n",
       "      <td>...</td>\n",
       "    </tr>\n",
       "    <tr>\n",
       "      <th>2361</th>\n",
       "      <td>KIR2DL5A</td>\n",
       "      <td>PVR</td>\n",
       "    </tr>\n",
       "    <tr>\n",
       "      <th>2362</th>\n",
       "      <td>SAA1</td>\n",
       "      <td>SCARB1</td>\n",
       "    </tr>\n",
       "    <tr>\n",
       "      <th>2363</th>\n",
       "      <td>SAA1</td>\n",
       "      <td>TLR2</td>\n",
       "    </tr>\n",
       "    <tr>\n",
       "      <th>2364</th>\n",
       "      <td>SAA1</td>\n",
       "      <td>TLR4</td>\n",
       "    </tr>\n",
       "    <tr>\n",
       "      <th>2365</th>\n",
       "      <td>SAA3P</td>\n",
       "      <td>LY96</td>\n",
       "    </tr>\n",
       "  </tbody>\n",
       "</table>\n",
       "<p>2365 rows × 2 columns</p>\n",
       "</div>"
      ],
      "text/plain": [
       "        ligand receptor\n",
       "0       CCL3L3    ACKR2\n",
       "1     DEFB103B     CCR2\n",
       "2       CCL3L3     CCR5\n",
       "3     DEFB103B     CCR6\n",
       "4       DEFB4A     CCR6\n",
       "...        ...      ...\n",
       "2361  KIR2DL5A      PVR\n",
       "2362      SAA1   SCARB1\n",
       "2363      SAA1     TLR2\n",
       "2364      SAA1     TLR4\n",
       "2365     SAA3P     LY96\n",
       "\n",
       "[2365 rows x 2 columns]"
      ]
     },
     "execution_count": 45,
     "metadata": {},
     "output_type": "execute_result"
    }
   ],
   "source": [
    "lr_pairs"
   ]
  },
  {
   "cell_type": "code",
   "execution_count": 46,
   "id": "548ba05e-8929-4434-a765-0d77b67d0c4f",
   "metadata": {},
   "outputs": [],
   "source": [
    "# generate ligand-receptor geneset\n",
    "lr_progeny = li.rs.generate_lr_geneset(lr_pairs, progeny, lr_sep=\"^\")"
   ]
  },
  {
   "cell_type": "code",
   "execution_count": 47,
   "id": "091fba45-e3f2-4e26-b1fb-6bd3ed8ebacb",
   "metadata": {},
   "outputs": [
    {
     "data": {
      "text/html": [
       "<div>\n",
       "<style scoped>\n",
       "    .dataframe tbody tr th:only-of-type {\n",
       "        vertical-align: middle;\n",
       "    }\n",
       "\n",
       "    .dataframe tbody tr th {\n",
       "        vertical-align: top;\n",
       "    }\n",
       "\n",
       "    .dataframe thead th {\n",
       "        text-align: right;\n",
       "    }\n",
       "</style>\n",
       "<table border=\"1\" class=\"dataframe\">\n",
       "  <thead>\n",
       "    <tr style=\"text-align: right;\">\n",
       "      <th></th>\n",
       "      <th>source</th>\n",
       "      <th>interaction</th>\n",
       "      <th>weight</th>\n",
       "    </tr>\n",
       "  </thead>\n",
       "  <tbody>\n",
       "    <tr>\n",
       "      <th>14</th>\n",
       "      <td>NFkB</td>\n",
       "      <td>IFNA13^IFNAR1</td>\n",
       "      <td>0.582020</td>\n",
       "    </tr>\n",
       "    <tr>\n",
       "      <th>46</th>\n",
       "      <td>TNFa</td>\n",
       "      <td>IFNA13^IFNAR1</td>\n",
       "      <td>1.219279</td>\n",
       "    </tr>\n",
       "    <tr>\n",
       "      <th>57</th>\n",
       "      <td>Trail</td>\n",
       "      <td>IFNA13^IFNAR1</td>\n",
       "      <td>0.339437</td>\n",
       "    </tr>\n",
       "    <tr>\n",
       "      <th>89</th>\n",
       "      <td>NFkB</td>\n",
       "      <td>IFNA13^IFNAR2</td>\n",
       "      <td>2.453309</td>\n",
       "    </tr>\n",
       "    <tr>\n",
       "      <th>108</th>\n",
       "      <td>TNFa</td>\n",
       "      <td>IFNA13^IFNAR2</td>\n",
       "      <td>4.271504</td>\n",
       "    </tr>\n",
       "    <tr>\n",
       "      <th>...</th>\n",
       "      <td>...</td>\n",
       "      <td>...</td>\n",
       "      <td>...</td>\n",
       "    </tr>\n",
       "    <tr>\n",
       "      <th>140018</th>\n",
       "      <td>PI3K</td>\n",
       "      <td>LRFN4^PTPRS</td>\n",
       "      <td>-0.742439</td>\n",
       "    </tr>\n",
       "    <tr>\n",
       "      <th>140068</th>\n",
       "      <td>Trail</td>\n",
       "      <td>LRFN5^PTPRD</td>\n",
       "      <td>0.367912</td>\n",
       "    </tr>\n",
       "    <tr>\n",
       "      <th>140157</th>\n",
       "      <td>EGFR</td>\n",
       "      <td>KIR2DL5A^PVR</td>\n",
       "      <td>0.801227</td>\n",
       "    </tr>\n",
       "    <tr>\n",
       "      <th>140179</th>\n",
       "      <td>MAPK</td>\n",
       "      <td>KIR2DL5A^PVR</td>\n",
       "      <td>0.933643</td>\n",
       "    </tr>\n",
       "    <tr>\n",
       "      <th>140265</th>\n",
       "      <td>JAK-STAT</td>\n",
       "      <td>SAA1^TLR2</td>\n",
       "      <td>1.439605</td>\n",
       "    </tr>\n",
       "  </tbody>\n",
       "</table>\n",
       "<p>5754 rows × 3 columns</p>\n",
       "</div>"
      ],
      "text/plain": [
       "          source    interaction    weight\n",
       "14          NFkB  IFNA13^IFNAR1  0.582020\n",
       "46          TNFa  IFNA13^IFNAR1  1.219279\n",
       "57         Trail  IFNA13^IFNAR1  0.339437\n",
       "89          NFkB  IFNA13^IFNAR2  2.453309\n",
       "108         TNFa  IFNA13^IFNAR2  4.271504\n",
       "...          ...            ...       ...\n",
       "140018      PI3K    LRFN4^PTPRS -0.742439\n",
       "140068     Trail    LRFN5^PTPRD  0.367912\n",
       "140157      EGFR   KIR2DL5A^PVR  0.801227\n",
       "140179      MAPK   KIR2DL5A^PVR  0.933643\n",
       "140265  JAK-STAT      SAA1^TLR2  1.439605\n",
       "\n",
       "[5754 rows x 3 columns]"
      ]
     },
     "execution_count": 47,
     "metadata": {},
     "output_type": "execute_result"
    }
   ],
   "source": [
    "lr_progeny"
   ]
  },
  {
   "cell_type": "code",
   "execution_count": 48,
   "id": "9beaedff-b8b8-4c41-b8c7-7ead6e5403aa",
   "metadata": {},
   "outputs": [
    {
     "data": {
      "text/plain": [
       "2028"
      ]
     },
     "execution_count": 48,
     "metadata": {},
     "output_type": "execute_result"
    }
   ],
   "source": [
    "# some of the pairs are missing\n",
    "len(lr_progeny[\"interaction\"].unique())"
   ]
  },
  {
   "cell_type": "code",
   "execution_count": 49,
   "id": "23e12dce-6c86-4006-b9ba-01a6924aa0f4",
   "metadata": {},
   "outputs": [],
   "source": [
    "output_file=\"data/pathway_annotations_per_pair.csv\"\n",
    "lr_progeny.to_csv(output_file, index=False)"
   ]
  },
  {
   "cell_type": "markdown",
   "id": "cf34da1b-e119-4c62-bfd4-41770dd2d010",
   "metadata": {},
   "source": [
    "### Disease Annotations"
   ]
  },
  {
   "cell_type": "code",
   "execution_count": 24,
   "id": "d1056987-e2ca-495c-a03f-78d002b63302",
   "metadata": {},
   "outputs": [
    {
     "name": "stderr",
     "output_type": "stream",
     "text": [
      "Downloading annotations for all proteins from the following resources: `['DisGeNet']`\n"
     ]
    }
   ],
   "source": [
    "diseases = op.requests.Annotations.get(\n",
    "    resources = ['DisGeNet']\n",
    "    )"
   ]
  },
  {
   "cell_type": "code",
   "execution_count": 26,
   "id": "79d3b1e6-9ceb-4782-9c00-ef11379f0ea3",
   "metadata": {},
   "outputs": [
    {
     "name": "stderr",
     "output_type": "stream",
     "text": [
      "/var/folders/r4/pjgb1k_x7fv9xgcb_dg70bnm0000gn/T/ipykernel_80132/3670171114.py:2: FutureWarning: The default value of observed=False is deprecated and will change to observed=True in a future version of pandas. Specify observed=False to silence this warning and retain the current behavior\n"
     ]
    },
    {
     "data": {
      "text/html": [
       "<div>\n",
       "<style scoped>\n",
       "    .dataframe tbody tr th:only-of-type {\n",
       "        vertical-align: middle;\n",
       "    }\n",
       "\n",
       "    .dataframe tbody tr th {\n",
       "        vertical-align: top;\n",
       "    }\n",
       "\n",
       "    .dataframe thead th {\n",
       "        text-align: right;\n",
       "    }\n",
       "</style>\n",
       "<table border=\"1\" class=\"dataframe\">\n",
       "  <thead>\n",
       "    <tr style=\"text-align: right;\">\n",
       "      <th></th>\n",
       "      <th>disease</th>\n",
       "      <th>interaction</th>\n",
       "    </tr>\n",
       "  </thead>\n",
       "  <tbody>\n",
       "    <tr>\n",
       "      <th>786337</th>\n",
       "      <td>Bipolar Disorder</td>\n",
       "      <td>ACE^BDKRB2</td>\n",
       "    </tr>\n",
       "    <tr>\n",
       "      <th>788038</th>\n",
       "      <td>Hypotension</td>\n",
       "      <td>ACE^BDKRB2</td>\n",
       "    </tr>\n",
       "    <tr>\n",
       "      <th>788618</th>\n",
       "      <td>Major Depressive Disorder</td>\n",
       "      <td>ACE^BDKRB2</td>\n",
       "    </tr>\n",
       "    <tr>\n",
       "      <th>790218</th>\n",
       "      <td>Unipolar Depression</td>\n",
       "      <td>ACE^BDKRB2</td>\n",
       "    </tr>\n",
       "    <tr>\n",
       "      <th>787989</th>\n",
       "      <td>Hypertensive disease</td>\n",
       "      <td>ACE^BDKRB2</td>\n",
       "    </tr>\n",
       "    <tr>\n",
       "      <th>...</th>\n",
       "      <td>...</td>\n",
       "      <td>...</td>\n",
       "    </tr>\n",
       "    <tr>\n",
       "      <th>835601</th>\n",
       "      <td>Mammary Neoplasms, Human</td>\n",
       "      <td>YBX1^NOTCH1</td>\n",
       "    </tr>\n",
       "    <tr>\n",
       "      <th>835101</th>\n",
       "      <td>Colonic Neoplasms</td>\n",
       "      <td>YBX1^NOTCH1</td>\n",
       "    </tr>\n",
       "    <tr>\n",
       "      <th>835012</th>\n",
       "      <td>Breast Carcinoma</td>\n",
       "      <td>YBX1^NOTCH1</td>\n",
       "    </tr>\n",
       "    <tr>\n",
       "      <th>835283</th>\n",
       "      <td>Malignant neoplasm of breast</td>\n",
       "      <td>YBX1^NOTCH1</td>\n",
       "    </tr>\n",
       "    <tr>\n",
       "      <th>835522</th>\n",
       "      <td>Mammary Neoplasms</td>\n",
       "      <td>YBX1^NOTCH1</td>\n",
       "    </tr>\n",
       "  </tbody>\n",
       "</table>\n",
       "<p>2955 rows × 2 columns</p>\n",
       "</div>"
      ],
      "text/plain": [
       "                             disease  interaction\n",
       "786337              Bipolar Disorder   ACE^BDKRB2\n",
       "788038                   Hypotension   ACE^BDKRB2\n",
       "788618     Major Depressive Disorder   ACE^BDKRB2\n",
       "790218           Unipolar Depression   ACE^BDKRB2\n",
       "787989          Hypertensive disease   ACE^BDKRB2\n",
       "...                              ...          ...\n",
       "835601      Mammary Neoplasms, Human  YBX1^NOTCH1\n",
       "835101             Colonic Neoplasms  YBX1^NOTCH1\n",
       "835012              Breast Carcinoma  YBX1^NOTCH1\n",
       "835283  Malignant neoplasm of breast  YBX1^NOTCH1\n",
       "835522             Mammary Neoplasms  YBX1^NOTCH1\n",
       "\n",
       "[2955 rows x 2 columns]"
      ]
     },
     "execution_count": 26,
     "metadata": {},
     "output_type": "execute_result"
    }
   ],
   "source": [
    "diseases = diseases[['genesymbol', 'label', 'value']]\n",
    "diseases = diseases.pivot_table(index='genesymbol',\n",
    "                                columns='label', values='value',\n",
    "                                aggfunc=lambda x: '; '.join(x)).reset_index()\n",
    "diseases = diseases[['genesymbol', 'disease']]\n",
    "diseases['disease'] = diseases['disease'].str.split('; ')\n",
    "diseases = diseases.explode('disease')\n",
    "lr_diseases = li.rs.generate_lr_geneset(lr_pairs, diseases, source='disease', target='genesymbol', weight=None, lr_sep=\"^\")\n",
    "lr_diseases.sort_values(\"interaction\")"
   ]
  },
  {
   "cell_type": "code",
   "execution_count": 34,
   "id": "115a5201-dd41-4519-ae48-68fc7e004828",
   "metadata": {},
   "outputs": [
    {
     "data": {
      "text/plain": [
       "593"
      ]
     },
     "execution_count": 34,
     "metadata": {},
     "output_type": "execute_result"
    }
   ],
   "source": [
    "# some of the pairs are missing\n",
    "len(lr_diseases[\"interaction\"].unique())"
   ]
  },
  {
   "cell_type": "code",
   "execution_count": 29,
   "id": "7fd738f5-cebd-49e2-be19-673450d33efb",
   "metadata": {},
   "outputs": [],
   "source": [
    "output_file=\"data/disease_annotations_per_pair.csv\"\n",
    "lr_diseases.to_csv(output_file, index=False)"
   ]
  },
  {
   "cell_type": "code",
   "execution_count": 37,
   "id": "de5cef07-a5eb-483d-8f28-ba9b65a5cda2",
   "metadata": {},
   "outputs": [
    {
     "data": {
      "text/plain": [
       "('Adhesome',\n",
       " 'Almen2009',\n",
       " 'Baccin2019',\n",
       " 'CORUM_Funcat',\n",
       " 'CORUM_GO',\n",
       " 'CSPA',\n",
       " 'CSPA_celltype',\n",
       " 'CancerDrugsDB',\n",
       " 'CancerGeneCensus',\n",
       " 'CancerSEA',\n",
       " 'CellCall',\n",
       " 'CellCellInteractions',\n",
       " 'CellChatDB',\n",
       " 'CellChatDB_complex',\n",
       " 'CellPhoneDB',\n",
       " 'CellPhoneDB_complex',\n",
       " 'CellTalkDB',\n",
       " 'CellTypist',\n",
       " 'Cellinker',\n",
       " 'Cellinker_complex',\n",
       " 'ComPPI',\n",
       " 'CytoSig',\n",
       " 'DGIdb',\n",
       " 'DisGeNet',\n",
       " 'EMBRACE',\n",
       " 'Exocarta',\n",
       " 'GO_Intercell',\n",
       " 'GPCRdb',\n",
       " 'Guide2Pharma',\n",
       " 'HGNC',\n",
       " 'HPA_secretome',\n",
       " 'HPA_subcellular',\n",
       " 'HPA_tissue',\n",
       " 'HPMR',\n",
       " 'HumanCellMap',\n",
       " 'ICELLNET',\n",
       " 'ICELLNET_complex',\n",
       " 'IntOGen',\n",
       " 'Integrins',\n",
       " 'InterPro',\n",
       " 'KEGG-PC',\n",
       " 'Kirouac2010',\n",
       " 'LOCATE',\n",
       " 'LRdb',\n",
       " 'Lambert2018',\n",
       " 'MCAM',\n",
       " 'MSigDB',\n",
       " 'Matrisome',\n",
       " 'MatrixDB',\n",
       " 'Membranome',\n",
       " 'NetPath',\n",
       " 'OPM',\n",
       " 'PROGENy',\n",
       " 'PanglaoDB',\n",
       " 'Phobius',\n",
       " 'Phosphatome',\n",
       " 'Ramilowski2015',\n",
       " 'Ramilowski_location',\n",
       " 'SIGNOR',\n",
       " 'SignaLink_function',\n",
       " 'SignaLink_pathway',\n",
       " 'Surfaceome',\n",
       " 'TCDB',\n",
       " 'TFcensus',\n",
       " 'TopDB',\n",
       " 'UniProt_family',\n",
       " 'UniProt_keyword',\n",
       " 'UniProt_location',\n",
       " 'UniProt_tissue',\n",
       " 'UniProt_topology',\n",
       " 'Vesiclepedia',\n",
       " 'Wang',\n",
       " 'Zhong2015',\n",
       " 'connectomeDB2020',\n",
       " 'iTALK',\n",
       " 'kinase.com',\n",
       " 'scConnect',\n",
       " 'scConnect_complex',\n",
       " 'talklr')"
      ]
     },
     "execution_count": 37,
     "metadata": {},
     "output_type": "execute_result"
    }
   ],
   "source": [
    "op.requests.Annotations.resources()"
   ]
  },
  {
   "cell_type": "code",
   "execution_count": null,
   "id": "c1441e26-b67b-4304-83a7-74e5ddeb1499",
   "metadata": {},
   "outputs": [],
   "source": []
  }
 ],
 "metadata": {
  "kernelspec": {
   "display_name": "quarto_llm_env",
   "language": "python",
   "name": "quarto_llm_env"
  },
  "language_info": {
   "codemirror_mode": {
    "name": "ipython",
    "version": 3
   },
   "file_extension": ".py",
   "mimetype": "text/x-python",
   "name": "python",
   "nbconvert_exporter": "python",
   "pygments_lexer": "ipython3",
   "version": "3.11.11"
  }
 },
 "nbformat": 4,
 "nbformat_minor": 5
}
