{
 "cells": [
  {
   "cell_type": "markdown",
   "id": "fcc5ddc1-519e-439c-a130-3dd8bcd181bd",
   "metadata": {},
   "source": [
    "# Python Notebook"
   ]
  },
  {
   "cell_type": "code",
   "execution_count": null,
   "id": "b443872e-66e7-427a-a031-75a16471e8a3",
   "metadata": {},
   "outputs": [],
   "source": [
    "def add_row(change):\n",
    "    global gene_pair\n",
    "    # Add a new row at the top with None values\n",
    "    new_row = {col: None for col in gene_pair.columns}\n",
    "    gene_pair = pd.DataFrame([new_row] + gene_pair.to_dict(orient=\"records\"))\n",
    "    update_table()\n",
    "\n",
    "# Function to remove the last row of the dataframe\n",
    "def remove_row(change):\n",
    "    global gene_pair\n",
    "    if len(gene_pair) > 0:\n",
    "        gene_pair = gene_pair[:-1]  # Remove the last row\n",
    "        update_table()"
   ]
  },
  {
   "cell_type": "code",
   "execution_count": 1,
   "id": "327783b9-5ddf-44d0-8fee-51819b75e4d0",
   "metadata": {},
   "outputs": [
    {
     "data": {
      "text/plain": [
       "Index(['Human LR Pair', 'Ligand', 'Receptor', 'Perplexity', 'PMID support',\n",
       "       'Ligand HGNC ID', 'Ligand location', 'Receptor HGNC ID',\n",
       "       'Receptor location', 'Ligand name', 'Receptor name', 'Ligand MGI ID',\n",
       "       'Mouse Ligand', 'Receptor MGI ID', 'Mouse Receptor', 'Ligand RGD ID',\n",
       "       'Rat Ligand', 'Receptor RGD ID', 'Rat Receptor'],\n",
       "      dtype='object')"
      ]
     },
     "execution_count": 1,
     "metadata": {},
     "output_type": "execute_result"
    }
   ],
   "source": [
    "## Function to create Ligand-Receptor pair cards\n",
    "\n",
    "import os\n",
    "import jinja2\n",
    "import sys\n",
    "import pandas as pd\n",
    "import numpy as np\n",
    "\n",
    "sys.path.append(os.path.abspath(\"src\"))  \n",
    "import fetchGSheet\n",
    "from createDataTable import gene_pair0\n",
    "\n",
    "gene_pair0.columns"
   ]
  },
  {
   "cell_type": "code",
   "execution_count": 2,
   "id": "cee951fa-0de6-46a3-9e5b-e8a204c89df9",
   "metadata": {},
   "outputs": [
    {
     "name": "stderr",
     "output_type": "stream",
     "text": [
      "/var/folders/r4/pjgb1k_x7fv9xgcb_dg70bnm0000gn/T/ipykernel_43060/919676071.py:55: SettingWithCopyWarning: \n",
      "A value is trying to be set on a copy of a slice from a DataFrame.\n",
      "Try using .loc[row_indexer,col_indexer] = value instead\n",
      "\n",
      "See the caveats in the documentation: https://pandas.pydata.org/pandas-docs/stable/user_guide/indexing.html#returning-a-view-versus-a-copy\n",
      "  interaction_card[\"Perplexity\"] = interaction_card[\"Perplexity\"].str.replace('size=30', 'size=80')\n",
      "/var/folders/r4/pjgb1k_x7fv9xgcb_dg70bnm0000gn/T/ipykernel_43060/919676071.py:68: SettingWithCopyWarning: \n",
      "A value is trying to be set on a copy of a slice from a DataFrame.\n",
      "Try using .loc[row_indexer,col_indexer] = value instead\n",
      "\n",
      "See the caveats in the documentation: https://pandas.pydata.org/pandas-docs/stable/user_guide/indexing.html#returning-a-view-versus-a-copy\n",
      "  ligand_card_2[\"HGNC gene card\"] = ligand_card_2[\"Ligand HGNC ID\"].apply(convert_hgnc_link)\n"
     ]
    }
   ],
   "source": [
    "## Function to create Ligand-Receptor pair cards\n",
    "\n",
    "import os\n",
    "import jinja2\n",
    "import sys\n",
    "import pandas as pd\n",
    "import numpy as np\n",
    "\n",
    "sys.path.append(os.path.abspath(\"src\"))  \n",
    "import fetchGSheet\n",
    "from createDataTable import gene_pair0\n",
    "\n",
    "# Paths\n",
    "TEMPLATE_PATH = 'HTML/cardTemplate.html'\n",
    "OUTPUT_DIR = 'data/cards/'\n",
    "\n",
    "def load_template(template_path):\n",
    "    \"\"\"Load Jinja2 template from a file.\"\"\"\n",
    "    with open(template_path, 'r') as file:\n",
    "        return jinja2.Template(file.read())\n",
    "\n",
    "# Function to convert the links\n",
    "def convert_hgnc_link(col):\n",
    "    # Extract the HGNC ID from the original URL\n",
    "    hgnc_id = col.split(\"HGNC:\")[1].split('\"')[0]  # Extract the ID number (e.g., \"31702\")\n",
    "    # Construct the new link\n",
    "    new_link = f'<a href=\"https://www.genecards.org/cgi-bin/carddisp.pl?id_type=hgnc&id={hgnc_id}\" target=\"_blank\"></a>'\n",
    "    return new_link\n",
    "\n",
    "def convert_hgnc_link_disease(col):\n",
    "    # Extract the HGNC ID from the original URL\n",
    "    hgnc_id = col.split(\"HGNC:\")[1].split('\"')[0]  # Extract the ID number (e.g., \"31702\")\n",
    "    # Construct the new link\n",
    "    new_link = f'<a href=\"https://www.genecards.org/cgi-bin/carddisp.pl?id_type=hgnc&id={hgnc_id}#diseases\" target=\"_blank\"></a>'\n",
    "    return new_link\n",
    "\n",
    "def convert_hgnc_link_exp(col):\n",
    "    # Extract the HGNC ID from the original URL\n",
    "    hgnc_id = col.split(\"HGNC:\")[1].split('\"')[0]  # Extract the ID number (e.g., \"31702\")\n",
    "    # Construct the new link\n",
    "    new_link = f'<a href=\"https://www.genecards.org/cgi-bin/carddisp.pl?id_type=hgnc&id={hgnc_id}#expression\" target=\"_blank\"></a>'\n",
    "    return new_link\n",
    "\n",
    "\n",
    "DBlength = len(gene_pair0)\n",
    "gene_pair0[\"Interaction ID\"] = [f\"CDB{str(i).zfill(4)}\" for i in range(1, DBlength + 1)]\n",
    "gene_pair0[\"Interaction Type\"] = [\n",
    "    f'{ligandLocation} {ligand} ligand binds to {receptorLocation} {receptor} receptor'\n",
    "        for ligand, ligandLocation, receptor, receptorLocation in zip(\n",
    "            gene_pair0[\"Ligand\"], gene_pair0[\"Ligand location\"],\n",
    "            gene_pair0[\"Receptor\"], gene_pair0[\"Receptor location\"]\n",
    "        )\n",
    "    ]\n",
    "interaction_card = gene_pair0[[\"Interaction ID\", \"Human LR Pair\", \"Interaction Type\", \"Perplexity\", \"PMID support\"]]\n",
    "interaction_card[\"Perplexity\"] = interaction_card[\"Perplexity\"].str.replace('size=30', 'size=80')\n",
    "\n",
    "pop_up_info_lim = fetchGSheet.pop_up_info[\n",
    "        [\"Approved symbol\", \"Alias symbol\", \"Previous symbol\", \"Date symbol changed\"]\n",
    "    ].drop_duplicates(subset=\"Approved symbol\", keep=\"first\")\n",
    "    \n",
    "ligand_card = gene_pair0[[\"Human LR Pair\", \"Ligand\", \"Ligand name\", \"Ligand HGNC ID\", \"Ligand MGI ID\", \"Ligand RGD ID\", \"Ligand location\"]].merge(\n",
    "        pop_up_info_lim, how='left', left_on='Ligand', right_on='Approved symbol'\n",
    "    ).drop_duplicates(subset='Human LR Pair', keep=\"first\").drop(columns=[\"Ligand\", \"Approved symbol\"])\n",
    "\n",
    "ligand_card_1 = ligand_card[[\"Human LR Pair\", \"Alias symbol\", \"Date symbol changed\", \"Ligand name\"]] \n",
    "ligand_card_2 = ligand_card[[\"Human LR Pair\", \"Ligand HGNC ID\", \"Ligand location\"]] \n",
    "    # convert links\n",
    "ligand_card_2[\"HGNC gene card\"] = ligand_card_2[\"Ligand HGNC ID\"].apply(convert_hgnc_link)"
   ]
  },
  {
   "cell_type": "code",
   "execution_count": 5,
   "id": "213d9e90-6575-4901-aac3-d4e130ebec12",
   "metadata": {},
   "outputs": [
    {
     "data": {
      "text/plain": [
       "'<a href=\"https://www.genecards.org/cgi-bin/carddisp.pl?id_type=hgnc&id=31702\" target=\"_blank\"></a>'"
      ]
     },
     "execution_count": 5,
     "metadata": {},
     "output_type": "execute_result"
    }
   ],
   "source": [
    "ligand_card_2[\"HGNC gene card\"][1]"
   ]
  },
  {
   "cell_type": "code",
   "execution_count": null,
   "id": "6c9ffac7-edc8-4e09-8fba-9648fa57757f",
   "metadata": {},
   "outputs": [],
   "source": []
  }
 ],
 "metadata": {
  "kernelspec": {
   "display_name": "quarto_env",
   "language": "python",
   "name": "quarto_env"
  },
  "language_info": {
   "codemirror_mode": {
    "name": "ipython",
    "version": 3
   },
   "file_extension": ".py",
   "mimetype": "text/x-python",
   "name": "python",
   "nbconvert_exporter": "python",
   "pygments_lexer": "ipython3",
   "version": "3.13.1"
  }
 },
 "nbformat": 4,
 "nbformat_minor": 5
}
