{
 "cells": [
  {
   "cell_type": "markdown",
   "id": "fcc5ddc1-519e-439c-a130-3dd8bcd181bd",
   "metadata": {},
   "source": [
    "# Python Notebook"
   ]
  },
  {
   "cell_type": "code",
   "execution_count": null,
   "id": "b443872e-66e7-427a-a031-75a16471e8a3",
   "metadata": {},
   "outputs": [],
   "source": [
    "def add_row(change):\n",
    "    global gene_pair\n",
    "    # Add a new row at the top with None values\n",
    "    new_row = {col: None for col in gene_pair.columns}\n",
    "    gene_pair = pd.DataFrame([new_row] + gene_pair.to_dict(orient=\"records\"))\n",
    "    update_table()\n",
    "\n",
    "# Function to remove the last row of the dataframe\n",
    "def remove_row(change):\n",
    "    global gene_pair\n",
    "    if len(gene_pair) > 0:\n",
    "        gene_pair = gene_pair[:-1]  # Remove the last row\n",
    "        update_table()"
   ]
  },
  {
   "cell_type": "code",
   "execution_count": 1,
   "id": "fc3be104-31b8-40b1-a2a5-8f606e6b784a",
   "metadata": {},
   "outputs": [
    {
     "data": {
      "text/plain": [
       "Index(['LR Pair', 'Ligand', 'Receptor', 'Perplexity', 'PMID support',\n",
       "       'Ligand HGNC ID', 'Ligand location', 'Receptor HGNC ID',\n",
       "       'Receptor location', 'Ligand name', 'Receptor name', 'Ligand MGI ID',\n",
       "       'Receptor MGI ID', 'Ligand RGD ID', 'Receptor RGD ID'],\n",
       "      dtype='object', name=0)"
      ]
     },
     "execution_count": 1,
     "metadata": {},
     "output_type": "execute_result"
    }
   ],
   "source": [
    "import os\n",
    "import jinja2\n",
    "import sys\n",
    "import pandas as pd\n",
    "import numpy as np\n",
    "\n",
    "sys.path.append(os.path.abspath(\"src\"))  \n",
    "import fetchGSheet\n",
    "from createDataTable import gene_pair0\n",
    "\n",
    "gene_pair0.columns"
   ]
  },
  {
   "cell_type": "code",
   "execution_count": null,
   "id": "386c564f-f89b-4814-a5b9-c1799a87afc3",
   "metadata": {},
   "outputs": [],
   "source": [
    "rat_gene_pair"
   ]
  },
  {
   "cell_type": "code",
   "execution_count": null,
   "id": "367639a9-ab68-46ae-bf50-2bd4cfbff3f3",
   "metadata": {},
   "outputs": [],
   "source": []
  }
 ],
 "metadata": {
  "kernelspec": {
   "display_name": "quarto_env",
   "language": "python",
   "name": "quarto_env"
  },
  "language_info": {
   "codemirror_mode": {
    "name": "ipython",
    "version": 3
   },
   "file_extension": ".py",
   "mimetype": "text/x-python",
   "name": "python",
   "nbconvert_exporter": "python",
   "pygments_lexer": "ipython3",
   "version": "3.13.1"
  }
 },
 "nbformat": 4,
 "nbformat_minor": 5
}
