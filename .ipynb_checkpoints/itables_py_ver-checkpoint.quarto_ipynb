{
  "cells": [
    {
      "cell_type": "markdown",
      "metadata": {},
      "source": [
        "---\n",
        "title: \"itables in Python\"\n",
        "execute:\n",
        "  echo: false\n",
        "---\n",
        "\n",
        "\n",
        "\n",
        "\n",
        "### itables example\n"
      ],
      "id": "a5fcb188"
    },
    {
      "cell_type": "code",
      "metadata": {},
      "source": [
        "from itables import init_notebook_mode\n",
        "import pandas as pd\n",
        "from itables import show\n",
        "from itables import options\n",
        "from IPython.display import display\n",
        "\n",
        "init_notebook_mode(all_interactive=True)\n",
        "# Read the data\n",
        "gene_pair = pd.read_csv(\"data/literature_support.tsv\", sep=\"\\t\")\n",
        "# Drop columns where all values are NA\n",
        "gene_pair = gene_pair.dropna(axis=1, how='all')\n",
        "\n",
        "df[\"capital\"] = [\n",
        "    '<a href=\"https://en.wikipedia.org/wiki/{}\">{}</a>'.format(capital, capital)\n",
        "    for capital in df[\"capital\"]\n",
        "]\n",
        "# Show the interactive table with itables\n",
        "display(show(gene_pair,\"ConnectomeDB2025\",\n",
        "             classes=\"display nowrap compact\",\n",
        "             select=True,\n",
        "             selected_rows=[],\n",
        "             theme='grid',  # Optional: You can set the theme for the table\n",
        "             buttons=[\n",
        "                \"pageLength\", \n",
        "                {\"extend\": \"csvHtml5\", \"title\": \"Source\"},\n",
        "                {\"extend\": \"excelHtml5\", \"title\": \"Source\"},\n",
        "                {\"extend\": \"copyHtml5\", \"title\": \"Source\"},\n",
        "             ],\n",
        "\n",
        "             columnDefs=[{\"width\": \"120px\", \"targets\": \"_all\"}],\n",
        "                        style=\"width:1200px\", autoWidth=False,\n",
        "             header=True,   # Include header\n",
        "             column_filters=\"footer\"\n",
        "            ))"
      ],
      "id": "b9119332",
      "execution_count": null,
      "outputs": []
    }
  ],
  "metadata": {
    "kernelspec": {
      "name": "python3",
      "language": "python",
      "display_name": "Python 3 (ipykernel)",
      "path": "/Users/sakuramaezono/miniconda3/envs/quarto_env/share/jupyter/kernels/python3"
    }
  },
  "nbformat": 4,
  "nbformat_minor": 5
}